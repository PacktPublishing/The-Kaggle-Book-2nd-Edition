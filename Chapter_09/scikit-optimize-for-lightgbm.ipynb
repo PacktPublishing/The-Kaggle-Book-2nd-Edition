{
 "cells": [
  {
   "cell_type": "code",
   "execution_count": 1,
   "id": "5529de62",
   "metadata": {
    "execution": {
     "iopub.execute_input": "2021-08-08T10:31:51.027474Z",
     "iopub.status.busy": "2021-08-08T10:31:51.025695Z",
     "iopub.status.idle": "2021-08-08T10:31:53.660936Z",
     "shell.execute_reply": "2021-08-08T10:31:53.660195Z",
     "shell.execute_reply.started": "2021-08-06T13:17:53.938945Z"
    },
    "papermill": {
     "duration": 2.667371,
     "end_time": "2021-08-08T10:31:53.661118",
     "exception": false,
     "start_time": "2021-08-08T10:31:50.993747",
     "status": "completed"
    },
    "tags": []
   },
   "outputs": [
    {
     "data": {
      "text/html": [
       "<style type='text/css'>\n",
       ".datatable table.frame { margin-bottom: 0; }\n",
       ".datatable table.frame thead { border-bottom: none; }\n",
       ".datatable table.frame tr.coltypes td {  color: #FFFFFF;  line-height: 6px;  padding: 0 0.5em;}\n",
       ".datatable .bool    { background: #DDDD99; }\n",
       ".datatable .object  { background: #565656; }\n",
       ".datatable .int     { background: #5D9E5D; }\n",
       ".datatable .float   { background: #4040CC; }\n",
       ".datatable .str     { background: #CC4040; }\n",
       ".datatable .time    { background: #40CC40; }\n",
       ".datatable .row_index {  background: var(--jp-border-color3);  border-right: 1px solid var(--jp-border-color0);  color: var(--jp-ui-font-color3);  font-size: 9px;}\n",
       ".datatable .frame tbody td { text-align: left; }\n",
       ".datatable .frame tr.coltypes .row_index {  background: var(--jp-border-color0);}\n",
       ".datatable th:nth-child(2) { padding-left: 12px; }\n",
       ".datatable .hellipsis {  color: var(--jp-cell-editor-border-color);}\n",
       ".datatable .vellipsis {  background: var(--jp-layout-color0);  color: var(--jp-cell-editor-border-color);}\n",
       ".datatable .na {  color: var(--jp-cell-editor-border-color);  font-size: 80%;}\n",
       ".datatable .sp {  opacity: 0.25;}\n",
       ".datatable .footer { font-size: 9px; }\n",
       ".datatable .frame_dimensions {  background: var(--jp-border-color3);  border-top: 1px solid var(--jp-border-color0);  color: var(--jp-ui-font-color3);  display: inline-block;  opacity: 0.6;  padding: 1px 10px 1px 5px;}\n",
       "</style>\n"
      ],
      "text/plain": [
       "<IPython.core.display.HTML object>"
      ]
     },
     "metadata": {},
     "output_type": "display_data"
    }
   ],
   "source": [
    "# Importing core libraries\n",
    "import numpy as np\n",
    "import pandas as pd\n",
    "from time import time\n",
    "import pprint\n",
    "import joblib\n",
    "\n",
    "# Suppressing warnings because of skopt verbosity\n",
    "import warnings\n",
    "warnings.filterwarnings(\"ignore\")\n",
    "\n",
    "# Classifiers\n",
    "import lightgbm as lgb\n",
    "\n",
    "# Model selection\n",
    "from sklearn.model_selection import StratifiedKFold\n",
    "\n",
    "# Metrics\n",
    "from sklearn.metrics import roc_auc_score\n",
    "from sklearn.metrics import make_scorer\n",
    "\n",
    "# Skopt functions\n",
    "from skopt import BayesSearchCV\n",
    "from skopt.callbacks import DeadlineStopper, DeltaYStopper\n",
    "from skopt.space import Real, Categorical, Integer\n",
    "\n",
    "# Plotting functions\n",
    "import seaborn as sns\n",
    "from matplotlib import pyplot as plt\n",
    "#sns.set(style='whitegrid')"
   ]
  },
  {
   "cell_type": "markdown",
   "id": "22b090e8",
   "metadata": {
    "papermill": {
     "duration": 0.024789,
     "end_time": "2021-08-08T10:31:53.711307",
     "exception": false,
     "start_time": "2021-08-08T10:31:53.686518",
     "status": "completed"
    },
    "tags": []
   },
   "source": [
    "## 1. First steps"
   ]
  },
  {
   "cell_type": "markdown",
   "id": "afcb8673",
   "metadata": {
    "papermill": {
     "duration": 0.024473,
     "end_time": "2021-08-08T10:31:53.760783",
     "exception": false,
     "start_time": "2021-08-08T10:31:53.736310",
     "status": "completed"
    },
    "tags": []
   },
   "source": [
    "As first steps: \n",
    "* we load the train and test data from disk\n",
    "* we separate the target from the training data\n",
    "* we separate the ids from the test data (thus train and test data have the same structure)\n",
    "* we convert integer variables to categories (thus our machine learning algorithm can pick them as categorical variables and not standard numeric one)"
   ]
  },
  {
   "cell_type": "code",
   "execution_count": 2,
   "id": "50567be8",
   "metadata": {
    "execution": {
     "iopub.execute_input": "2021-08-08T10:31:53.817412Z",
     "iopub.status.busy": "2021-08-08T10:31:53.816668Z",
     "iopub.status.idle": "2021-08-08T10:31:54.092966Z",
     "shell.execute_reply": "2021-08-08T10:31:54.093482Z",
     "shell.execute_reply.started": "2021-08-06T13:17:53.952783Z"
    },
    "papermill": {
     "duration": 0.308129,
     "end_time": "2021-08-08T10:31:54.093672",
     "exception": false,
     "start_time": "2021-08-08T10:31:53.785543",
     "status": "completed"
    },
    "tags": []
   },
   "outputs": [],
   "source": [
    "# Loading data \n",
    "X = pd.read_csv(\"../input/amazon-employee-access-challenge/train.csv\")\n",
    "X_test = pd.read_csv(\"../input/amazon-employee-access-challenge/test.csv\")\n",
    "\n",
    "# Separating the target from the predictors\n",
    "y = X[\"ACTION\"]\n",
    "X.drop([\"ACTION\"], axis=\"columns\", inplace=True)\n",
    "\n",
    "# Separating the identifier from the test data\n",
    "ids = X_test[\"id\"]\n",
    "X_test.drop(\"id\", axis=\"columns\", inplace=True)\n",
    "\n",
    "# Converting all integer variables to categorical\n",
    "integer_cols = X.select_dtypes(include=['int']).columns\n",
    "X[integer_cols] = X[integer_cols].astype('category', copy=False)\n",
    "X_test[integer_cols] = X_test[integer_cols].astype('category', copy=False)"
   ]
  },
  {
   "cell_type": "markdown",
   "id": "31f56b8c",
   "metadata": {
    "papermill": {
     "duration": 0.024819,
     "end_time": "2021-08-08T10:31:54.143331",
     "exception": false,
     "start_time": "2021-08-08T10:31:54.118512",
     "status": "completed"
    },
    "tags": []
   },
   "source": [
    "# 2. EDA"
   ]
  },
  {
   "cell_type": "markdown",
   "id": "795bac41",
   "metadata": {
    "papermill": {
     "duration": 0.02471,
     "end_time": "2021-08-08T10:31:54.193231",
     "exception": false,
     "start_time": "2021-08-08T10:31:54.168521",
     "status": "completed"
    },
    "tags": []
   },
   "source": [
    "At this point we have a look at the training and test data in order to figure out how we can process the data."
   ]
  },
  {
   "cell_type": "code",
   "execution_count": 3,
   "id": "0cdf0d15",
   "metadata": {
    "execution": {
     "iopub.execute_input": "2021-08-08T10:31:54.250132Z",
     "iopub.status.busy": "2021-08-08T10:31:54.248931Z",
     "iopub.status.idle": "2021-08-08T10:31:54.287707Z",
     "shell.execute_reply": "2021-08-08T10:31:54.287060Z",
     "shell.execute_reply.started": "2021-08-06T13:17:54.1476Z"
    },
    "papermill": {
     "duration": 0.069212,
     "end_time": "2021-08-08T10:31:54.287849",
     "exception": false,
     "start_time": "2021-08-08T10:31:54.218637",
     "status": "completed"
    },
    "tags": []
   },
   "outputs": [
    {
     "name": "stdout",
     "output_type": "stream",
     "text": [
      "Unique values\n"
     ]
    },
    {
     "data": {
      "text/html": [
       "<div>\n",
       "<style scoped>\n",
       "    .dataframe tbody tr th:only-of-type {\n",
       "        vertical-align: middle;\n",
       "    }\n",
       "\n",
       "    .dataframe tbody tr th {\n",
       "        vertical-align: top;\n",
       "    }\n",
       "\n",
       "    .dataframe thead th {\n",
       "        text-align: right;\n",
       "    }\n",
       "</style>\n",
       "<table border=\"1\" class=\"dataframe\">\n",
       "  <thead>\n",
       "    <tr style=\"text-align: right;\">\n",
       "      <th></th>\n",
       "      <th>train</th>\n",
       "      <th>test</th>\n",
       "    </tr>\n",
       "  </thead>\n",
       "  <tbody>\n",
       "    <tr>\n",
       "      <th>RESOURCE</th>\n",
       "      <td>7518</td>\n",
       "      <td>4971</td>\n",
       "    </tr>\n",
       "    <tr>\n",
       "      <th>MGR_ID</th>\n",
       "      <td>4243</td>\n",
       "      <td>4689</td>\n",
       "    </tr>\n",
       "    <tr>\n",
       "      <th>ROLE_ROLLUP_1</th>\n",
       "      <td>128</td>\n",
       "      <td>126</td>\n",
       "    </tr>\n",
       "    <tr>\n",
       "      <th>ROLE_ROLLUP_2</th>\n",
       "      <td>177</td>\n",
       "      <td>177</td>\n",
       "    </tr>\n",
       "    <tr>\n",
       "      <th>ROLE_DEPTNAME</th>\n",
       "      <td>449</td>\n",
       "      <td>466</td>\n",
       "    </tr>\n",
       "    <tr>\n",
       "      <th>ROLE_TITLE</th>\n",
       "      <td>343</td>\n",
       "      <td>351</td>\n",
       "    </tr>\n",
       "    <tr>\n",
       "      <th>ROLE_FAMILY_DESC</th>\n",
       "      <td>2358</td>\n",
       "      <td>2749</td>\n",
       "    </tr>\n",
       "    <tr>\n",
       "      <th>ROLE_FAMILY</th>\n",
       "      <td>67</td>\n",
       "      <td>68</td>\n",
       "    </tr>\n",
       "    <tr>\n",
       "      <th>ROLE_CODE</th>\n",
       "      <td>343</td>\n",
       "      <td>351</td>\n",
       "    </tr>\n",
       "  </tbody>\n",
       "</table>\n",
       "</div>"
      ],
      "text/plain": [
       "                  train  test\n",
       "RESOURCE           7518  4971\n",
       "MGR_ID             4243  4689\n",
       "ROLE_ROLLUP_1       128   126\n",
       "ROLE_ROLLUP_2       177   177\n",
       "ROLE_DEPTNAME       449   466\n",
       "ROLE_TITLE          343   351\n",
       "ROLE_FAMILY_DESC   2358  2749\n",
       "ROLE_FAMILY          67    68\n",
       "ROLE_CODE           343   351"
      ]
     },
     "execution_count": 3,
     "metadata": {},
     "output_type": "execute_result"
    }
   ],
   "source": [
    "print(\"Unique values\")\n",
    "(pd.concat([X.apply(lambda x: len(x.unique())), \n",
    "            X_test.apply(lambda x: len(x.unique()))\n",
    "           ], axis=\"columns\")\n",
    " .rename(columns={0: \"train\", 1:\"test\"}))"
   ]
  },
  {
   "cell_type": "code",
   "execution_count": 4,
   "id": "34013e09",
   "metadata": {
    "execution": {
     "iopub.execute_input": "2021-08-08T10:31:54.347197Z",
     "iopub.status.busy": "2021-08-08T10:31:54.346493Z",
     "iopub.status.idle": "2021-08-08T10:31:54.376151Z",
     "shell.execute_reply": "2021-08-08T10:31:54.375361Z",
     "shell.execute_reply.started": "2021-08-06T13:17:54.188275Z"
    },
    "papermill": {
     "duration": 0.061251,
     "end_time": "2021-08-08T10:31:54.376296",
     "exception": false,
     "start_time": "2021-08-08T10:31:54.315045",
     "status": "completed"
    },
    "tags": []
   },
   "outputs": [
    {
     "name": "stdout",
     "output_type": "stream",
     "text": [
      "Values in test but not in train\n",
      "RESOURCE             2547\n",
      "MGR_ID                224\n",
      "ROLE_ROLLUP_1           4\n",
      "ROLE_ROLLUP_2           6\n",
      "ROLE_DEPTNAME          10\n",
      "ROLE_TITLE             10\n",
      "ROLE_FAMILY_DESC      202\n",
      "ROLE_FAMILY             0\n",
      "ROLE_CODE              10\n"
     ]
    }
   ],
   "source": [
    "print(\"Values in test but not in train\")\n",
    "for col in integer_cols:\n",
    "    mismatched_codes = len(np.setdiff1d(X[col].unique(), X_test[col].unique()))\n",
    "    print(f\"{col:20} {mismatched_codes:4}\")"
   ]
  },
  {
   "cell_type": "code",
   "execution_count": 5,
   "id": "8142d90a",
   "metadata": {
    "execution": {
     "iopub.execute_input": "2021-08-08T10:31:54.431562Z",
     "iopub.status.busy": "2021-08-08T10:31:54.430631Z",
     "iopub.status.idle": "2021-08-08T10:31:54.449077Z",
     "shell.execute_reply": "2021-08-08T10:31:54.449657Z",
     "shell.execute_reply.started": "2021-08-06T13:17:54.225486Z"
    },
    "papermill": {
     "duration": 0.047678,
     "end_time": "2021-08-08T10:31:54.449829",
     "exception": false,
     "start_time": "2021-08-08T10:31:54.402151",
     "status": "completed"
    },
    "tags": []
   },
   "outputs": [
    {
     "name": "stdout",
     "output_type": "stream",
     "text": [
      "Missing cases\n"
     ]
    },
    {
     "data": {
      "text/html": [
       "<div>\n",
       "<style scoped>\n",
       "    .dataframe tbody tr th:only-of-type {\n",
       "        vertical-align: middle;\n",
       "    }\n",
       "\n",
       "    .dataframe tbody tr th {\n",
       "        vertical-align: top;\n",
       "    }\n",
       "\n",
       "    .dataframe thead th {\n",
       "        text-align: right;\n",
       "    }\n",
       "</style>\n",
       "<table border=\"1\" class=\"dataframe\">\n",
       "  <thead>\n",
       "    <tr style=\"text-align: right;\">\n",
       "      <th></th>\n",
       "      <th>train</th>\n",
       "      <th>test</th>\n",
       "    </tr>\n",
       "  </thead>\n",
       "  <tbody>\n",
       "    <tr>\n",
       "      <th>RESOURCE</th>\n",
       "      <td>0</td>\n",
       "      <td>0</td>\n",
       "    </tr>\n",
       "    <tr>\n",
       "      <th>MGR_ID</th>\n",
       "      <td>0</td>\n",
       "      <td>0</td>\n",
       "    </tr>\n",
       "    <tr>\n",
       "      <th>ROLE_ROLLUP_1</th>\n",
       "      <td>0</td>\n",
       "      <td>0</td>\n",
       "    </tr>\n",
       "    <tr>\n",
       "      <th>ROLE_ROLLUP_2</th>\n",
       "      <td>0</td>\n",
       "      <td>0</td>\n",
       "    </tr>\n",
       "    <tr>\n",
       "      <th>ROLE_DEPTNAME</th>\n",
       "      <td>0</td>\n",
       "      <td>0</td>\n",
       "    </tr>\n",
       "    <tr>\n",
       "      <th>ROLE_TITLE</th>\n",
       "      <td>0</td>\n",
       "      <td>0</td>\n",
       "    </tr>\n",
       "    <tr>\n",
       "      <th>ROLE_FAMILY_DESC</th>\n",
       "      <td>0</td>\n",
       "      <td>0</td>\n",
       "    </tr>\n",
       "    <tr>\n",
       "      <th>ROLE_FAMILY</th>\n",
       "      <td>0</td>\n",
       "      <td>0</td>\n",
       "    </tr>\n",
       "    <tr>\n",
       "      <th>ROLE_CODE</th>\n",
       "      <td>0</td>\n",
       "      <td>0</td>\n",
       "    </tr>\n",
       "  </tbody>\n",
       "</table>\n",
       "</div>"
      ],
      "text/plain": [
       "                  train  test\n",
       "RESOURCE              0     0\n",
       "MGR_ID                0     0\n",
       "ROLE_ROLLUP_1         0     0\n",
       "ROLE_ROLLUP_2         0     0\n",
       "ROLE_DEPTNAME         0     0\n",
       "ROLE_TITLE            0     0\n",
       "ROLE_FAMILY_DESC      0     0\n",
       "ROLE_FAMILY           0     0\n",
       "ROLE_CODE             0     0"
      ]
     },
     "execution_count": 5,
     "metadata": {},
     "output_type": "execute_result"
    }
   ],
   "source": [
    "print(\"Missing cases\")\n",
    "(pd.concat([X.isna().sum(), \n",
    "           X_test.isna().sum()\n",
    "           ], axis=\"columns\")\n",
    " .rename(columns={0: \"train\", 1:\"test\"}))"
   ]
  },
  {
   "cell_type": "code",
   "execution_count": 6,
   "id": "4fb22965",
   "metadata": {
    "execution": {
     "iopub.execute_input": "2021-08-08T10:31:54.506756Z",
     "iopub.status.busy": "2021-08-08T10:31:54.505805Z",
     "iopub.status.idle": "2021-08-08T10:31:54.749927Z",
     "shell.execute_reply": "2021-08-08T10:31:54.750367Z",
     "shell.execute_reply.started": "2021-08-06T13:17:54.248883Z"
    },
    "papermill": {
     "duration": 0.274262,
     "end_time": "2021-08-08T10:31:54.750548",
     "exception": false,
     "start_time": "2021-08-08T10:31:54.476286",
     "status": "completed"
    },
    "tags": []
   },
   "outputs": [
    {
     "data": {
      "image/png": "[encoded data removed]",
      "text/plain": [
       "<Figure size 720x432 with 1 Axes>"
      ]
     },
     "metadata": {
      "needs_background": "light"
     },
     "output_type": "display_data"
    }
   ],
   "source": [
    "# label distribution\n",
    "fig, ax = plt.subplots(1, 1, figsize=(10, 6))\n",
    "sns.histplot(y, ax=ax)\n",
    "plt.show()"
   ]
  },
  {
   "cell_type": "code",
   "execution_count": 7,
   "id": "10174f66",
   "metadata": {
    "execution": {
     "iopub.execute_input": "2021-08-08T10:31:54.811062Z",
     "iopub.status.busy": "2021-08-08T10:31:54.810008Z",
     "iopub.status.idle": "2021-08-08T10:32:41.097457Z",
     "shell.execute_reply": "2021-08-08T10:32:41.098007Z",
     "shell.execute_reply.started": "2021-08-06T13:17:54.477078Z"
    },
    "papermill": {
     "duration": 46.32037,
     "end_time": "2021-08-08T10:32:41.098206",
     "exception": false,
     "start_time": "2021-08-08T10:31:54.777836",
     "status": "completed"
    },
    "tags": []
   },
   "outputs": [
    {
     "data": {
      "image/png": "[encoded data removed]",
      "text/plain": [
       "<Figure size 1728x1584 with 10 Axes>"
      ]
     },
     "metadata": {
      "needs_background": "light"
     },
     "output_type": "display_data"
    }
   ],
   "source": [
    "# Distribution of values of variables\n",
    "_ = X.astype(int).hist(bins='auto', figsize=(24, 22), layout=(5, 2))"
   ]
  },
  {
   "cell_type": "markdown",
   "id": "ffe30087",
   "metadata": {
    "papermill": {
     "duration": 0.029158,
     "end_time": "2021-08-08T10:32:41.157249",
     "exception": false,
     "start_time": "2021-08-08T10:32:41.128091",
     "status": "completed"
    },
    "tags": []
   },
   "source": [
    "From the EDA we can get a few hints about what to do:\n",
    "* the target classes are unbalanced, we should consider re-balancing the data\n",
    "* all the categorical features have a different number of values ranging from 70 to up to over 7000 (high cardinality features)\n",
    "* there are no missing values but many categorical values appear just in test, not in train (this especially affects the RESOURCE feature)\n",
    "* the categorical values are sparse"
   ]
  },
  {
   "cell_type": "markdown",
   "id": "81dcec72",
   "metadata": {
    "papermill": {
     "duration": 0.029332,
     "end_time": "2021-08-08T10:32:41.216901",
     "exception": false,
     "start_time": "2021-08-08T10:32:41.187569",
     "status": "completed"
    },
    "tags": []
   },
   "source": [
    "# 3. Feature engineering"
   ]
  },
  {
   "cell_type": "markdown",
   "id": "56448223",
   "metadata": {
    "papermill": {
     "duration": 0.02957,
     "end_time": "2021-08-08T10:32:41.277051",
     "exception": false,
     "start_time": "2021-08-08T10:32:41.247481",
     "status": "completed"
    },
    "tags": []
   },
   "source": [
    "As the categorical features are sparsed and mismatched, we replace the original values with contiguous values, substituing with the value -1 in the test set for values that are not present in the train set. This operation should permit the LightGBM "
   ]
  },
  {
   "cell_type": "code",
   "execution_count": 8,
   "id": "99c04f37",
   "metadata": {
    "execution": {
     "iopub.execute_input": "2021-08-08T10:32:41.339426Z",
     "iopub.status.busy": "2021-08-08T10:32:41.338797Z",
     "iopub.status.idle": "2021-08-08T10:32:41.430951Z",
     "shell.execute_reply": "2021-08-08T10:32:41.430385Z",
     "shell.execute_reply.started": "2021-08-06T13:18:42.188202Z"
    },
    "papermill": {
     "duration": 0.124494,
     "end_time": "2021-08-08T10:32:41.431090",
     "exception": false,
     "start_time": "2021-08-08T10:32:41.306596",
     "status": "completed"
    },
    "tags": []
   },
   "outputs": [
    {
     "name": "stdout",
     "output_type": "stream",
     "text": [
      "RESOURCE : [0, 38, 136, 138, 153] ... [312136, 312139, 312140, 312152, 312153]\n",
      "MGR_ID : [25, 27, 30, 32, 33] ... [311597, 311651, 311682, 311683, 311696]\n",
      "ROLE_ROLLUP_1 : [4292, 5110, 11146, 91261, 117876] ... [203209, 209434, 216705, 247952, 311178]\n",
      "ROLE_ROLLUP_2 : [23779, 31010, 32137, 117877, 117883] ... [151110, 159716, 176316, 185842, 286791]\n",
      "ROLE_DEPTNAME : [4674, 5488, 5606, 6104, 6725] ... [272283, 274241, 275600, 277693, 286792]\n",
      "ROLE_TITLE : [117879, 117885, 117896, 117899, 117905] ... [297560, 299559, 307024, 310825, 311867]\n",
      "ROLE_FAMILY_DESC : [4673, 62587, 117879, 117886, 117897] ... [311782, 311792, 311834, 311839, 311867]\n",
      "ROLE_FAMILY : [3130, 4673, 6725, 19721, 19793] ... [254395, 270488, 290919, 292795, 308574]\n",
      "ROLE_CODE : [117880, 117888, 117898, 117900, 117908] ... [254396, 258436, 266863, 268610, 270691]\n"
     ]
    }
   ],
   "source": [
    "for col in integer_cols:\n",
    "    unique_values = sorted(X[col].unique())\n",
    "    print(col, \":\", unique_values[:5],'...', unique_values[-5:])\n",
    "    conversion_dict = dict(zip(unique_values, range(len(unique_values))))\n",
    "    # When working with the Categorical’s codes, missing values will always have a code of -1.\n",
    "    X[col] = X[col].map(conversion_dict, na_action=-1).astype('category', copy=False)\n",
    "    X_test[col] = X_test[col].map(conversion_dict, na_action=-1).astype('category', copy=False)"
   ]
  },
  {
   "cell_type": "code",
   "execution_count": 9,
   "id": "507c4177",
   "metadata": {
    "execution": {
     "iopub.execute_input": "2021-08-08T10:32:41.497566Z",
     "iopub.status.busy": "2021-08-08T10:32:41.496947Z",
     "iopub.status.idle": "2021-08-08T10:32:41.513758Z",
     "shell.execute_reply": "2021-08-08T10:32:41.513116Z",
     "shell.execute_reply.started": "2021-08-06T13:18:42.291384Z"
    },
    "papermill": {
     "duration": 0.052603,
     "end_time": "2021-08-08T10:32:41.513898",
     "exception": false,
     "start_time": "2021-08-08T10:32:41.461295",
     "status": "completed"
    },
    "tags": []
   },
   "outputs": [
    {
     "name": "stdout",
     "output_type": "stream",
     "text": [
      "Missing cases\n"
     ]
    },
    {
     "data": {
      "text/html": [
       "<div>\n",
       "<style scoped>\n",
       "    .dataframe tbody tr th:only-of-type {\n",
       "        vertical-align: middle;\n",
       "    }\n",
       "\n",
       "    .dataframe tbody tr th {\n",
       "        vertical-align: top;\n",
       "    }\n",
       "\n",
       "    .dataframe thead th {\n",
       "        text-align: right;\n",
       "    }\n",
       "</style>\n",
       "<table border=\"1\" class=\"dataframe\">\n",
       "  <thead>\n",
       "    <tr style=\"text-align: right;\">\n",
       "      <th></th>\n",
       "      <th>train</th>\n",
       "      <th>test</th>\n",
       "    </tr>\n",
       "  </thead>\n",
       "  <tbody>\n",
       "    <tr>\n",
       "      <th>RESOURCE</th>\n",
       "      <td>0</td>\n",
       "      <td>0</td>\n",
       "    </tr>\n",
       "    <tr>\n",
       "      <th>MGR_ID</th>\n",
       "      <td>0</td>\n",
       "      <td>1627</td>\n",
       "    </tr>\n",
       "    <tr>\n",
       "      <th>ROLE_ROLLUP_1</th>\n",
       "      <td>0</td>\n",
       "      <td>4</td>\n",
       "    </tr>\n",
       "    <tr>\n",
       "      <th>ROLE_ROLLUP_2</th>\n",
       "      <td>0</td>\n",
       "      <td>12</td>\n",
       "    </tr>\n",
       "    <tr>\n",
       "      <th>ROLE_DEPTNAME</th>\n",
       "      <td>0</td>\n",
       "      <td>62</td>\n",
       "    </tr>\n",
       "    <tr>\n",
       "      <th>ROLE_TITLE</th>\n",
       "      <td>0</td>\n",
       "      <td>30</td>\n",
       "    </tr>\n",
       "    <tr>\n",
       "      <th>ROLE_FAMILY_DESC</th>\n",
       "      <td>0</td>\n",
       "      <td>1249</td>\n",
       "    </tr>\n",
       "    <tr>\n",
       "      <th>ROLE_FAMILY</th>\n",
       "      <td>0</td>\n",
       "      <td>1</td>\n",
       "    </tr>\n",
       "    <tr>\n",
       "      <th>ROLE_CODE</th>\n",
       "      <td>0</td>\n",
       "      <td>30</td>\n",
       "    </tr>\n",
       "  </tbody>\n",
       "</table>\n",
       "</div>"
      ],
      "text/plain": [
       "                  train  test\n",
       "RESOURCE              0     0\n",
       "MGR_ID                0  1627\n",
       "ROLE_ROLLUP_1         0     4\n",
       "ROLE_ROLLUP_2         0    12\n",
       "ROLE_DEPTNAME         0    62\n",
       "ROLE_TITLE            0    30\n",
       "ROLE_FAMILY_DESC      0  1249\n",
       "ROLE_FAMILY           0     1\n",
       "ROLE_CODE             0    30"
      ]
     },
     "execution_count": 9,
     "metadata": {},
     "output_type": "execute_result"
    }
   ],
   "source": [
    "print(\"Missing cases\")\n",
    "pd.concat([X.isna().sum(), X_test.isna().sum()], axis=\"columns\").rename(columns={0: \"train\", 1:\"test\"})"
   ]
  },
  {
   "cell_type": "markdown",
   "id": "4e379e6c",
   "metadata": {
    "papermill": {
     "duration": 0.030913,
     "end_time": "2021-08-08T10:32:41.575454",
     "exception": false,
     "start_time": "2021-08-08T10:32:41.544541",
     "status": "completed"
    },
    "tags": []
   },
   "source": [
    "# 4. Setting up optimization"
   ]
  },
  {
   "cell_type": "markdown",
   "id": "12141ee8",
   "metadata": {
    "papermill": {
     "duration": 0.030686,
     "end_time": "2021-08-08T10:32:41.637135",
     "exception": false,
     "start_time": "2021-08-08T10:32:41.606449",
     "status": "completed"
    },
    "tags": []
   },
   "source": [
    "First, we create a wrapper function to deal with running the optimizer and reporting back its best results."
   ]
  },
  {
   "cell_type": "code",
   "execution_count": 10,
   "id": "60ea770e",
   "metadata": {
    "execution": {
     "iopub.execute_input": "2021-08-08T10:32:41.707290Z",
     "iopub.status.busy": "2021-08-08T10:32:41.706679Z",
     "iopub.status.idle": "2021-08-08T10:32:41.709564Z",
     "shell.execute_reply": "2021-08-08T10:32:41.710001Z",
     "shell.execute_reply.started": "2021-08-06T13:18:42.320205Z"
    },
    "papermill": {
     "duration": 0.041537,
     "end_time": "2021-08-08T10:32:41.710158",
     "exception": false,
     "start_time": "2021-08-08T10:32:41.668621",
     "status": "completed"
    },
    "tags": []
   },
   "outputs": [],
   "source": [
    "# Reporting util for different optimizers\n",
    "def report_perf(optimizer, X, y, title=\"model\", callbacks=None):\n",
    "    \"\"\"\n",
    "    A wrapper for measuring time and performances of different optmizers\n",
    "    \n",
    "    optimizer = a sklearn or a skopt optimizer\n",
    "    X = the training set \n",
    "    y = our target\n",
    "    title = a string label for the experiment\n",
    "    \"\"\"\n",
    "    start = time()\n",
    "    \n",
    "    if callbacks is not None:\n",
    "        optimizer.fit(X, y, callback=callbacks)\n",
    "    else:\n",
    "        optimizer.fit(X, y)\n",
    "        \n",
    "    d=pd.DataFrame(optimizer.cv_results_)\n",
    "    best_score = optimizer.best_score_\n",
    "    best_score_std = d.iloc[optimizer.best_index_].std_test_score\n",
    "    best_params = optimizer.best_params_\n",
    "    \n",
    "    print((title + \" took %.2f seconds,  candidates checked: %d, best CV score: %.3f \"\n",
    "           + u\"\\u00B1\"+\" %.3f\") % (time() - start, \n",
    "                                   len(optimizer.cv_results_['params']),\n",
    "                                   best_score,\n",
    "                                   best_score_std))    \n",
    "    print('Best parameters:')\n",
    "    pprint.pprint(best_params)\n",
    "    print()\n",
    "    return best_params"
   ]
  },
  {
   "cell_type": "markdown",
   "id": "28324c65",
   "metadata": {
    "papermill": {
     "duration": 0.030683,
     "end_time": "2021-08-08T10:32:41.771651",
     "exception": false,
     "start_time": "2021-08-08T10:32:41.740968",
     "status": "completed"
    },
    "tags": []
   },
   "source": [
    "We then define the evaluation metric, using the Scikit-learn function make_scorer allows us to convert the optimization into a minimization problem, as required by Scikit-optimize."
   ]
  },
  {
   "cell_type": "code",
   "execution_count": 11,
   "id": "def9b447",
   "metadata": {
    "execution": {
     "iopub.execute_input": "2021-08-08T10:32:41.837897Z",
     "iopub.status.busy": "2021-08-08T10:32:41.837151Z",
     "iopub.status.idle": "2021-08-08T10:32:41.840366Z",
     "shell.execute_reply": "2021-08-08T10:32:41.839772Z",
     "shell.execute_reply.started": "2021-08-06T13:18:42.333385Z"
    },
    "papermill": {
     "duration": 0.038146,
     "end_time": "2021-08-08T10:32:41.840508",
     "exception": false,
     "start_time": "2021-08-08T10:32:41.802362",
     "status": "completed"
    },
    "tags": []
   },
   "outputs": [],
   "source": [
    "# Converting average precision score into a scorer suitable for model selection\n",
    "roc_auc = make_scorer(roc_auc_score, greater_is_better=True, needs_threshold=True)"
   ]
  },
  {
   "cell_type": "markdown",
   "id": "aa915deb",
   "metadata": {
    "papermill": {
     "duration": 0.030526,
     "end_time": "2021-08-08T10:32:41.901937",
     "exception": false,
     "start_time": "2021-08-08T10:32:41.871411",
     "status": "completed"
    },
    "tags": []
   },
   "source": [
    "We set up a stratified 5-fold cross validation: stratification helps us to obtain representative folds of the data and the target, though the target is unbalanced."
   ]
  },
  {
   "cell_type": "code",
   "execution_count": 12,
   "id": "e8e6cb97",
   "metadata": {
    "execution": {
     "iopub.execute_input": "2021-08-08T10:32:41.968318Z",
     "iopub.status.busy": "2021-08-08T10:32:41.967566Z",
     "iopub.status.idle": "2021-08-08T10:32:41.969668Z",
     "shell.execute_reply": "2021-08-08T10:32:41.969059Z",
     "shell.execute_reply.started": "2021-08-06T13:18:42.344906Z"
    },
    "papermill": {
     "duration": 0.037367,
     "end_time": "2021-08-08T10:32:41.969803",
     "exception": false,
     "start_time": "2021-08-08T10:32:41.932436",
     "status": "completed"
    },
    "tags": []
   },
   "outputs": [],
   "source": [
    "# Setting a 5-fold stratified cross-validation (note: shuffle=True)\n",
    "skf = StratifiedKFold(n_splits=5, shuffle=True, random_state=0)"
   ]
  },
  {
   "cell_type": "markdown",
   "id": "1eb89ddb",
   "metadata": {
    "papermill": {
     "duration": 0.030623,
     "end_time": "2021-08-08T10:32:42.031287",
     "exception": false,
     "start_time": "2021-08-08T10:32:42.000664",
     "status": "completed"
    },
    "tags": []
   },
   "source": [
    "We set up a generic LightGBM classifier."
   ]
  },
  {
   "cell_type": "code",
   "execution_count": 13,
   "id": "7ca382ab",
   "metadata": {
    "execution": {
     "iopub.execute_input": "2021-08-08T10:32:42.098981Z",
     "iopub.status.busy": "2021-08-08T10:32:42.098285Z",
     "iopub.status.idle": "2021-08-08T10:32:42.101039Z",
     "shell.execute_reply": "2021-08-08T10:32:42.100435Z",
     "shell.execute_reply.started": "2021-08-06T13:18:42.358319Z"
    },
    "papermill": {
     "duration": 0.038905,
     "end_time": "2021-08-08T10:32:42.101168",
     "exception": false,
     "start_time": "2021-08-08T10:32:42.062263",
     "status": "completed"
    },
    "tags": []
   },
   "outputs": [],
   "source": [
    "clf = lgb.LGBMClassifier(boosting_type='gbdt',\n",
    "                         metric='auc',\n",
    "                         objective='binary',\n",
    "                         n_jobs=1, \n",
    "                         verbose=-1,\n",
    "                         random_state=0)"
   ]
  },
  {
   "cell_type": "markdown",
   "id": "6071c5dc",
   "metadata": {
    "papermill": {
     "duration": 0.03115,
     "end_time": "2021-08-08T10:32:42.163932",
     "exception": false,
     "start_time": "2021-08-08T10:32:42.132782",
     "status": "completed"
    },
    "tags": []
   },
   "source": [
    "We define a search space, expliciting the key hyper-parameters to optimize and the range where to look for the best values."
   ]
  },
  {
   "cell_type": "code",
   "execution_count": 14,
   "id": "b6862ce5",
   "metadata": {
    "execution": {
     "iopub.execute_input": "2021-08-08T10:32:42.236559Z",
     "iopub.status.busy": "2021-08-08T10:32:42.235906Z",
     "iopub.status.idle": "2021-08-08T10:32:42.245697Z",
     "shell.execute_reply": "2021-08-08T10:32:42.246221Z",
     "shell.execute_reply.started": "2021-08-06T13:18:42.371004Z"
    },
    "papermill": {
     "duration": 0.051273,
     "end_time": "2021-08-08T10:32:42.246389",
     "exception": false,
     "start_time": "2021-08-08T10:32:42.195116",
     "status": "completed"
    },
    "tags": []
   },
   "outputs": [],
   "source": [
    "search_spaces = {\n",
    "    'learning_rate': Real(0.01, 1.0, 'log-uniform'),     # Boosting learning rate\n",
    "    'n_estimators': Integer(30, 5000),                   # Number of boosted trees to fit\n",
    "    'num_leaves': Integer(2, 512),                       # Maximum tree leaves for base learners\n",
    "    'max_depth': Integer(-1, 256),                       # Maximum tree depth for base learners, <=0 means no limit\n",
    "    'min_child_samples': Integer(1, 256),                # Minimal number of data in one leaf\n",
    "    'max_bin': Integer(100, 1000),                       # Max number of bins that feature values will be bucketed\n",
    "    'subsample': Real(0.01, 1.0, 'uniform'),             # Subsample ratio of the training instance\n",
    "    'subsample_freq': Integer(0, 10),                    # Frequency of subsample, <=0 means no enable\n",
    "    'colsample_bytree': Real(0.01, 1.0, 'uniform'),      # Subsample ratio of columns when constructing each tree\n",
    "    'min_child_weight': Real(0.01, 10.0, 'uniform'),     # Minimum sum of instance weight (hessian) needed in a child (leaf)\n",
    "    'reg_lambda': Real(1e-9, 100.0, 'log-uniform'),      # L2 regularization\n",
    "    'reg_alpha': Real(1e-9, 100.0, 'log-uniform'),       # L1 regularization\n",
    "    'scale_pos_weight': Real(1.0, 500.0, 'uniform'),     # Weighting of the minority class (Only for binary classification)\n",
    "        }"
   ]
  },
  {
   "cell_type": "markdown",
   "id": "1695b027",
   "metadata": {
    "papermill": {
     "duration": 0.030764,
     "end_time": "2021-08-08T10:32:42.308018",
     "exception": false,
     "start_time": "2021-08-08T10:32:42.277254",
     "status": "completed"
    },
    "tags": []
   },
   "source": [
    "We then define the Bayesian optimization engine, providing to it our LightGBM, the search spaces, the evaluation metric, the cross-validation. We set a large number of possible experiments and some parallelism in the search operations."
   ]
  },
  {
   "cell_type": "code",
   "execution_count": 15,
   "id": "f38d974f",
   "metadata": {
    "execution": {
     "iopub.execute_input": "2021-08-08T10:32:42.373236Z",
     "iopub.status.busy": "2021-08-08T10:32:42.372607Z",
     "iopub.status.idle": "2021-08-08T10:32:42.377476Z",
     "shell.execute_reply": "2021-08-08T10:32:42.378090Z",
     "shell.execute_reply.started": "2021-08-06T13:18:42.39355Z"
    },
    "papermill": {
     "duration": 0.039139,
     "end_time": "2021-08-08T10:32:42.378258",
     "exception": false,
     "start_time": "2021-08-08T10:32:42.339119",
     "status": "completed"
    },
    "tags": []
   },
   "outputs": [],
   "source": [
    "opt = BayesSearchCV(estimator=clf,                                    \n",
    "                    search_spaces=search_spaces,                      \n",
    "                    scoring=roc_auc,                                  \n",
    "                    cv=skf,                                           \n",
    "                    n_iter=3000,                                      # max number of trials\n",
    "                    n_points=3,                                       # number of hyperparameter sets evaluated at the same time\n",
    "                    n_jobs=-1,                                        # number of jobs\n",
    "                    iid=False,                                        # if not iid it optimizes on the cv score\n",
    "                    return_train_score=False,                         \n",
    "                    refit=False,                                      \n",
    "                    optimizer_kwargs={'base_estimator': 'GP'},        # optmizer parameters: we use Gaussian Process (GP)\n",
    "                    random_state=0)                                   # random state for replicability"
   ]
  },
  {
   "cell_type": "markdown",
   "id": "e51cdf7a",
   "metadata": {
    "papermill": {
     "duration": 0.030839,
     "end_time": "2021-08-08T10:32:42.439955",
     "exception": false,
     "start_time": "2021-08-08T10:32:42.409116",
     "status": "completed"
    },
    "tags": []
   },
   "source": [
    "Finally we runt the optimizer and wait for the results. We have set some limits to its operations: we required it to stop if it cannot get consistent improvements from the search (DeltaYStopper) and time dealine set in seconds (we decided for 45 minutes)."
   ]
  },
  {
   "cell_type": "code",
   "execution_count": 16,
   "id": "d4001139",
   "metadata": {
    "execution": {
     "iopub.execute_input": "2021-08-08T10:32:42.505133Z",
     "iopub.status.busy": "2021-08-08T10:32:42.504424Z",
     "iopub.status.idle": "2021-08-08T11:15:00.889453Z",
     "shell.execute_reply": "2021-08-08T11:15:00.890025Z",
     "shell.execute_reply.started": "2021-08-06T13:18:42.412421Z"
    },
    "papermill": {
     "duration": 2538.419719,
     "end_time": "2021-08-08T11:15:00.890655",
     "exception": false,
     "start_time": "2021-08-08T10:32:42.470936",
     "status": "completed"
    },
    "tags": []
   },
   "outputs": [
    {
     "name": "stdout",
     "output_type": "stream",
     "text": [
      "LightGBM took 2538.34 seconds,  candidates checked: 84, best CV score: 0.862 ± 0.008\n",
      "Best parameters:\n",
      "OrderedDict([('colsample_bytree', 0.3192137474960033),\n",
      "             ('learning_rate', 0.031216819794790598),\n",
      "             ('max_bin', 646),\n",
      "             ('max_depth', 131),\n",
      "             ('min_child_samples', 7),\n",
      "             ('min_child_weight', 6.73636179313144),\n",
      "             ('n_estimators', 2130),\n",
      "             ('num_leaves', 512),\n",
      "             ('reg_alpha', 0.00035764983218868946),\n",
      "             ('reg_lambda', 1.4663063535670735e-08),\n",
      "             ('scale_pos_weight', 1.0),\n",
      "             ('subsample', 0.8779916789359071),\n",
      "             ('subsample_freq', 4)])\n",
      "\n"
     ]
    }
   ],
   "source": [
    "overdone_control = DeltaYStopper(delta=0.0001)               # We stop if the gain of the optimization becomes too small\n",
    "time_limit_control = DeadlineStopper(total_time=60 * 45)     # We impose a time limit (45 minutes)\n",
    "\n",
    "best_params = report_perf(opt, X, y,'LightGBM', \n",
    "                          callbacks=[overdone_control, time_limit_control])"
   ]
  },
  {
   "cell_type": "markdown",
   "id": "8efe9c3e",
   "metadata": {
    "papermill": {
     "duration": 0.031605,
     "end_time": "2021-08-08T11:15:00.953557",
     "exception": false,
     "start_time": "2021-08-08T11:15:00.921952",
     "status": "completed"
    },
    "tags": []
   },
   "source": [
    "# 5. Prediction on test data"
   ]
  },
  {
   "cell_type": "markdown",
   "id": "b6e34ab1",
   "metadata": {
    "papermill": {
     "duration": 0.031205,
     "end_time": "2021-08-08T11:15:01.016346",
     "exception": false,
     "start_time": "2021-08-08T11:15:00.985141",
     "status": "completed"
    },
    "tags": []
   },
   "source": [
    "Having got the best hyperparameters for the data at hand, we instantiate a lightGBM using such values and train our model on all the available examples.\n",
    "<P>After having trained the model, we predict on the test set and we save the results on a csv file."
   ]
  },
  {
   "cell_type": "code",
   "execution_count": 17,
   "id": "89aac224",
   "metadata": {
    "execution": {
     "iopub.execute_input": "2021-08-08T11:15:01.085871Z",
     "iopub.status.busy": "2021-08-08T11:15:01.085172Z",
     "iopub.status.idle": "2021-08-08T11:15:01.088101Z",
     "shell.execute_reply": "2021-08-08T11:15:01.087543Z",
     "shell.execute_reply.started": "2021-08-06T13:34:18.942198Z"
    },
    "papermill": {
     "duration": 0.040331,
     "end_time": "2021-08-08T11:15:01.088239",
     "exception": false,
     "start_time": "2021-08-08T11:15:01.047908",
     "status": "completed"
    },
    "tags": []
   },
   "outputs": [],
   "source": [
    "clf = lgb.LGBMClassifier(boosting_type='gbdt',\n",
    "                         metric='auc',\n",
    "                         objective='binary',\n",
    "                         n_jobs=1, \n",
    "                         verbose=-1,\n",
    "                         random_state=0,\n",
    "                         **best_params)"
   ]
  },
  {
   "cell_type": "code",
   "execution_count": 18,
   "id": "8ed9adf2",
   "metadata": {
    "execution": {
     "iopub.execute_input": "2021-08-08T11:15:01.155926Z",
     "iopub.status.busy": "2021-08-08T11:15:01.155235Z",
     "iopub.status.idle": "2021-08-08T11:15:21.849041Z",
     "shell.execute_reply": "2021-08-08T11:15:21.848516Z",
     "shell.execute_reply.started": "2021-08-06T13:34:18.951572Z"
    },
    "papermill": {
     "duration": 20.729497,
     "end_time": "2021-08-08T11:15:21.849185",
     "exception": false,
     "start_time": "2021-08-08T11:15:01.119688",
     "status": "completed"
    },
    "tags": []
   },
   "outputs": [
    {
     "data": {
      "text/plain": [
       "LGBMClassifier(colsample_bytree=0.3192137474960033,\n",
       "               learning_rate=0.031216819794790598, max_bin=646, max_depth=131,\n",
       "               metric='auc', min_child_samples=7,\n",
       "               min_child_weight=6.73636179313144, n_estimators=2130, n_jobs=1,\n",
       "               num_leaves=512, objective='binary', random_state=0,\n",
       "               reg_alpha=0.00035764983218868946,\n",
       "               reg_lambda=1.4663063535670735e-08, scale_pos_weight=1.0,\n",
       "               subsample=0.8779916789359071, subsample_freq=4, verbose=-1)"
      ]
     },
     "execution_count": 18,
     "metadata": {},
     "output_type": "execute_result"
    }
   ],
   "source": [
    "clf.fit(X, y)"
   ]
  },
  {
   "cell_type": "code",
   "execution_count": 19,
   "id": "0e16b863",
   "metadata": {
    "execution": {
     "iopub.execute_input": "2021-08-08T11:15:21.918515Z",
     "iopub.status.busy": "2021-08-08T11:15:21.917519Z",
     "iopub.status.idle": "2021-08-08T11:15:54.219644Z",
     "shell.execute_reply": "2021-08-08T11:15:54.218985Z",
     "shell.execute_reply.started": "2021-08-06T13:34:40.198866Z"
    },
    "papermill": {
     "duration": 32.338975,
     "end_time": "2021-08-08T11:15:54.219800",
     "exception": false,
     "start_time": "2021-08-08T11:15:21.880825",
     "status": "completed"
    },
    "tags": []
   },
   "outputs": [],
   "source": [
    "submission = pd.DataFrame({'Id':ids, 'ACTION': clf.predict_proba(X_test)[:, 1].ravel()})\n",
    "submission.to_csv(\"submission.csv\", index = False)"
   ]
  }
 ],
 "metadata": {
  "kernelspec": {
   "display_name": "Python 3",
   "language": "python",
   "name": "python3"
  },
  "language_info": {
   "codemirror_mode": {
    "name": "ipython",
    "version": 3
   },
   "file_extension": ".py",
   "mimetype": "text/x-python",
   "name": "python",
   "nbconvert_exporter": "python",
   "pygments_lexer": "ipython3",
   "version": "3.7.10"
  },
  "papermill": {
   "default_parameters": {},
   "duration": 2653.128588,
   "end_time": "2021-08-08T11:15:55.967412",
   "environment_variables": {},
   "exception": null,
   "input_path": "__notebook__.ipynb",
   "output_path": "__notebook__.ipynb",
   "parameters": {},
   "start_time": "2021-08-08T10:31:42.838824",
   "version": "2.3.3"
  }
 },
 "nbformat": 4,
 "nbformat_minor": 5
}
