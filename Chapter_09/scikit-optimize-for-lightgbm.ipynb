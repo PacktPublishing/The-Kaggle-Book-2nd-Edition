{
 "cells": [
  {
   "cell_type": "code",
   "execution_count": 1,
   "id": "2c0a009b",
   "metadata": {
    "execution": {
     "iopub.execute_input": "2024-10-05T18:02:05.572833Z",
     "iopub.status.busy": "2024-10-05T18:02:05.571806Z",
     "iopub.status.idle": "2024-10-05T18:02:28.135579Z",
     "shell.execute_reply": "2024-10-05T18:02:28.133257Z"
    },
    "papermill": {
     "duration": 22.584493,
     "end_time": "2024-10-05T18:02:28.139756",
     "exception": false,
     "start_time": "2024-10-05T18:02:05.555263",
     "status": "completed"
    },
    "tags": []
   },
   "outputs": [
    {
     "name": "stdout",
     "output_type": "stream",
     "text": [
      "\u001b[31mERROR: pip's dependency resolver does not currently take into account all the packages that are installed. This behaviour is the source of the following dependency conflicts.\r\n",
      "bigframes 0.22.0 requires google-cloud-bigquery[bqstorage,pandas]>=3.10.0, but you have google-cloud-bigquery 2.34.4 which is incompatible.\r\n",
      "bigframes 0.22.0 requires google-cloud-storage>=2.0.0, but you have google-cloud-storage 1.44.0 which is incompatible.\r\n",
      "bigframes 0.22.0 requires pandas<2.1.4,>=1.5.0, but you have pandas 2.2.3 which is incompatible.\r\n",
      "cesium 0.12.3 requires numpy<3.0,>=2.0, but you have numpy 1.26.4 which is incompatible.\r\n",
      "dataproc-jupyter-plugin 0.1.79 requires pydantic~=1.10.0, but you have pydantic 2.9.2 which is incompatible.\u001b[0m\u001b[31m\r\n",
      "\u001b[0m"
     ]
    }
   ],
   "source": [
    "!pip install scikit-learn -U -q"
   ]
  },
  {
   "cell_type": "code",
   "execution_count": 2,
   "id": "35d3e07c",
   "metadata": {
    "execution": {
     "iopub.execute_input": "2024-10-05T18:02:28.168770Z",
     "iopub.status.busy": "2024-10-05T18:02:28.166763Z",
     "iopub.status.idle": "2024-10-05T18:02:33.393659Z",
     "shell.execute_reply": "2024-10-05T18:02:33.391839Z"
    },
    "papermill": {
     "duration": 5.24336,
     "end_time": "2024-10-05T18:02:33.396871",
     "exception": false,
     "start_time": "2024-10-05T18:02:28.153511",
     "status": "completed"
    },
    "tags": []
   },
   "outputs": [],
   "source": [
    "# Importing core libraries\n",
    "import numpy as np\n",
    "import pandas as pd\n",
    "from time import time\n",
    "import pprint\n",
    "import joblib\n",
    "\n",
    "# Suppressing warnings because of skopt verbosity\n",
    "import warnings\n",
    "warnings.filterwarnings(\"ignore\")\n",
    "\n",
    "# Classifiers\n",
    "import lightgbm as lgb\n",
    "\n",
    "# Model selection\n",
    "from sklearn.model_selection import StratifiedKFold\n",
    "\n",
    "# Metrics\n",
    "from sklearn.metrics import roc_auc_score\n",
    "from sklearn.metrics import make_scorer\n",
    "\n",
    "# Skopt functions\n",
    "from skopt import BayesSearchCV\n",
    "from skopt.callbacks import DeadlineStopper, DeltaYStopper\n",
    "from skopt.space import Real, Categorical, Integer\n",
    "\n",
    "# Plotting functions\n",
    "import seaborn as sns\n",
    "from matplotlib import pyplot as plt\n",
    "#sns.set(style='whitegrid')"
   ]
  },
  {
   "cell_type": "markdown",
   "id": "b835a07e",
   "metadata": {
    "papermill": {
     "duration": 0.010741,
     "end_time": "2024-10-05T18:02:33.418074",
     "exception": false,
     "start_time": "2024-10-05T18:02:33.407333",
     "status": "completed"
    },
    "tags": []
   },
   "source": [
    "## 1. First steps"
   ]
  },
  {
   "cell_type": "markdown",
   "id": "a0c7425e",
   "metadata": {
    "papermill": {
     "duration": 0.009889,
     "end_time": "2024-10-05T18:02:33.437985",
     "exception": false,
     "start_time": "2024-10-05T18:02:33.428096",
     "status": "completed"
    },
    "tags": []
   },
   "source": [
    "As first steps: \n",
    "* we load the train and test data from disk\n",
    "* we separate the target from the training data\n",
    "* we separate the ids from the test data (thus train and test data have the same structure)\n",
    "* we convert integer variables to categories (thus our machine learning algorithm can pick them as categorical variables and not standard numeric one)"
   ]
  },
  {
   "cell_type": "code",
   "execution_count": 3,
   "id": "831fd03f",
   "metadata": {
    "execution": {
     "iopub.execute_input": "2024-10-05T18:02:33.462227Z",
     "iopub.status.busy": "2024-10-05T18:02:33.461495Z",
     "iopub.status.idle": "2024-10-05T18:02:33.766292Z",
     "shell.execute_reply": "2024-10-05T18:02:33.764909Z"
    },
    "papermill": {
     "duration": 0.319928,
     "end_time": "2024-10-05T18:02:33.769539",
     "exception": false,
     "start_time": "2024-10-05T18:02:33.449611",
     "status": "completed"
    },
    "tags": []
   },
   "outputs": [],
   "source": [
    "# Loading data \n",
    "X = pd.read_csv(\"../input/amazon-employee-access-challenge/train.csv\")\n",
    "X_test = pd.read_csv(\"../input/amazon-employee-access-challenge/test.csv\")\n",
    "\n",
    "# Separating the target from the predictors\n",
    "y = X[\"ACTION\"]\n",
    "X.drop([\"ACTION\"], axis=\"columns\", inplace=True)\n",
    "\n",
    "# Separating the identifier from the test data\n",
    "ids = X_test[\"id\"]\n",
    "X_test.drop(\"id\", axis=\"columns\", inplace=True)\n",
    "\n",
    "# Converting all integer variables to categorical\n",
    "integer_cols = X.select_dtypes(include=['int']).columns\n",
    "X[integer_cols] = X[integer_cols].astype('category', copy=False)\n",
    "X_test[integer_cols] = X_test[integer_cols].astype('category', copy=False)"
   ]
  },
  {
   "cell_type": "markdown",
   "id": "6b9eeffa",
   "metadata": {
    "papermill": {
     "duration": 0.00934,
     "end_time": "2024-10-05T18:02:33.789603",
     "exception": false,
     "start_time": "2024-10-05T18:02:33.780263",
     "status": "completed"
    },
    "tags": []
   },
   "source": [
    "# 2. EDA"
   ]
  },
  {
   "cell_type": "markdown",
   "id": "5be1b2ca",
   "metadata": {
    "papermill": {
     "duration": 0.00983,
     "end_time": "2024-10-05T18:02:33.810303",
     "exception": false,
     "start_time": "2024-10-05T18:02:33.800473",
     "status": "completed"
    },
    "tags": []
   },
   "source": [
    "At this point we have a look at the training and test data in order to figure out how we can process the data."
   ]
  },
  {
   "cell_type": "code",
   "execution_count": 4,
   "id": "780a0f12",
   "metadata": {
    "execution": {
     "iopub.execute_input": "2024-10-05T18:02:33.833491Z",
     "iopub.status.busy": "2024-10-05T18:02:33.833041Z",
     "iopub.status.idle": "2024-10-05T18:02:33.870113Z",
     "shell.execute_reply": "2024-10-05T18:02:33.868209Z"
    },
    "papermill": {
     "duration": 0.053311,
     "end_time": "2024-10-05T18:02:33.874201",
     "exception": false,
     "start_time": "2024-10-05T18:02:33.820890",
     "status": "completed"
    },
    "tags": []
   },
   "outputs": [
    {
     "name": "stdout",
     "output_type": "stream",
     "text": [
      "Unique values\n"
     ]
    },
    {
     "data": {
      "text/html": [
       "<div>\n",
       "<style scoped>\n",
       "    .dataframe tbody tr th:only-of-type {\n",
       "        vertical-align: middle;\n",
       "    }\n",
       "\n",
       "    .dataframe tbody tr th {\n",
       "        vertical-align: top;\n",
       "    }\n",
       "\n",
       "    .dataframe thead th {\n",
       "        text-align: right;\n",
       "    }\n",
       "</style>\n",
       "<table border=\"1\" class=\"dataframe\">\n",
       "  <thead>\n",
       "    <tr style=\"text-align: right;\">\n",
       "      <th></th>\n",
       "      <th>train</th>\n",
       "      <th>test</th>\n",
       "    </tr>\n",
       "  </thead>\n",
       "  <tbody>\n",
       "    <tr>\n",
       "      <th>RESOURCE</th>\n",
       "      <td>7518</td>\n",
       "      <td>4971</td>\n",
       "    </tr>\n",
       "    <tr>\n",
       "      <th>MGR_ID</th>\n",
       "      <td>4243</td>\n",
       "      <td>4689</td>\n",
       "    </tr>\n",
       "    <tr>\n",
       "      <th>ROLE_ROLLUP_1</th>\n",
       "      <td>128</td>\n",
       "      <td>126</td>\n",
       "    </tr>\n",
       "    <tr>\n",
       "      <th>ROLE_ROLLUP_2</th>\n",
       "      <td>177</td>\n",
       "      <td>177</td>\n",
       "    </tr>\n",
       "    <tr>\n",
       "      <th>ROLE_DEPTNAME</th>\n",
       "      <td>449</td>\n",
       "      <td>466</td>\n",
       "    </tr>\n",
       "    <tr>\n",
       "      <th>ROLE_TITLE</th>\n",
       "      <td>343</td>\n",
       "      <td>351</td>\n",
       "    </tr>\n",
       "    <tr>\n",
       "      <th>ROLE_FAMILY_DESC</th>\n",
       "      <td>2358</td>\n",
       "      <td>2749</td>\n",
       "    </tr>\n",
       "    <tr>\n",
       "      <th>ROLE_FAMILY</th>\n",
       "      <td>67</td>\n",
       "      <td>68</td>\n",
       "    </tr>\n",
       "    <tr>\n",
       "      <th>ROLE_CODE</th>\n",
       "      <td>343</td>\n",
       "      <td>351</td>\n",
       "    </tr>\n",
       "  </tbody>\n",
       "</table>\n",
       "</div>"
      ],
      "text/plain": [
       "                  train  test\n",
       "RESOURCE           7518  4971\n",
       "MGR_ID             4243  4689\n",
       "ROLE_ROLLUP_1       128   126\n",
       "ROLE_ROLLUP_2       177   177\n",
       "ROLE_DEPTNAME       449   466\n",
       "ROLE_TITLE          343   351\n",
       "ROLE_FAMILY_DESC   2358  2749\n",
       "ROLE_FAMILY          67    68\n",
       "ROLE_CODE           343   351"
      ]
     },
     "execution_count": 4,
     "metadata": {},
     "output_type": "execute_result"
    }
   ],
   "source": [
    "print(\"Unique values\")\n",
    "(pd.concat([X.apply(lambda x: len(x.unique())), \n",
    "            X_test.apply(lambda x: len(x.unique()))\n",
    "           ], axis=\"columns\")\n",
    " .rename(columns={0: \"train\", 1:\"test\"}))"
   ]
  },
  {
   "cell_type": "code",
   "execution_count": 5,
   "id": "fe29e24f",
   "metadata": {
    "execution": {
     "iopub.execute_input": "2024-10-05T18:02:33.898935Z",
     "iopub.status.busy": "2024-10-05T18:02:33.898413Z",
     "iopub.status.idle": "2024-10-05T18:02:33.921729Z",
     "shell.execute_reply": "2024-10-05T18:02:33.919641Z"
    },
    "papermill": {
     "duration": 0.039287,
     "end_time": "2024-10-05T18:02:33.925010",
     "exception": false,
     "start_time": "2024-10-05T18:02:33.885723",
     "status": "completed"
    },
    "tags": []
   },
   "outputs": [
    {
     "name": "stdout",
     "output_type": "stream",
     "text": [
      "Values in test but not in train\n",
      "RESOURCE             2547\n",
      "MGR_ID                224\n",
      "ROLE_ROLLUP_1           4\n",
      "ROLE_ROLLUP_2           6\n",
      "ROLE_DEPTNAME          10\n",
      "ROLE_TITLE             10\n",
      "ROLE_FAMILY_DESC      202\n",
      "ROLE_FAMILY             0\n",
      "ROLE_CODE              10\n"
     ]
    }
   ],
   "source": [
    "print(\"Values in test but not in train\")\n",
    "for col in integer_cols:\n",
    "    mismatched_codes = len(np.setdiff1d(X[col].unique(), X_test[col].unique()))\n",
    "    print(f\"{col:20} {mismatched_codes:4}\")"
   ]
  },
  {
   "cell_type": "code",
   "execution_count": 6,
   "id": "ce705783",
   "metadata": {
    "execution": {
     "iopub.execute_input": "2024-10-05T18:02:33.949438Z",
     "iopub.status.busy": "2024-10-05T18:02:33.948914Z",
     "iopub.status.idle": "2024-10-05T18:02:33.969296Z",
     "shell.execute_reply": "2024-10-05T18:02:33.967704Z"
    },
    "papermill": {
     "duration": 0.036413,
     "end_time": "2024-10-05T18:02:33.972832",
     "exception": false,
     "start_time": "2024-10-05T18:02:33.936419",
     "status": "completed"
    },
    "tags": []
   },
   "outputs": [
    {
     "name": "stdout",
     "output_type": "stream",
     "text": [
      "Missing cases\n"
     ]
    },
    {
     "data": {
      "text/html": [
       "<div>\n",
       "<style scoped>\n",
       "    .dataframe tbody tr th:only-of-type {\n",
       "        vertical-align: middle;\n",
       "    }\n",
       "\n",
       "    .dataframe tbody tr th {\n",
       "        vertical-align: top;\n",
       "    }\n",
       "\n",
       "    .dataframe thead th {\n",
       "        text-align: right;\n",
       "    }\n",
       "</style>\n",
       "<table border=\"1\" class=\"dataframe\">\n",
       "  <thead>\n",
       "    <tr style=\"text-align: right;\">\n",
       "      <th></th>\n",
       "      <th>train</th>\n",
       "      <th>test</th>\n",
       "    </tr>\n",
       "  </thead>\n",
       "  <tbody>\n",
       "    <tr>\n",
       "      <th>RESOURCE</th>\n",
       "      <td>0</td>\n",
       "      <td>0</td>\n",
       "    </tr>\n",
       "    <tr>\n",
       "      <th>MGR_ID</th>\n",
       "      <td>0</td>\n",
       "      <td>0</td>\n",
       "    </tr>\n",
       "    <tr>\n",
       "      <th>ROLE_ROLLUP_1</th>\n",
       "      <td>0</td>\n",
       "      <td>0</td>\n",
       "    </tr>\n",
       "    <tr>\n",
       "      <th>ROLE_ROLLUP_2</th>\n",
       "      <td>0</td>\n",
       "      <td>0</td>\n",
       "    </tr>\n",
       "    <tr>\n",
       "      <th>ROLE_DEPTNAME</th>\n",
       "      <td>0</td>\n",
       "      <td>0</td>\n",
       "    </tr>\n",
       "    <tr>\n",
       "      <th>ROLE_TITLE</th>\n",
       "      <td>0</td>\n",
       "      <td>0</td>\n",
       "    </tr>\n",
       "    <tr>\n",
       "      <th>ROLE_FAMILY_DESC</th>\n",
       "      <td>0</td>\n",
       "      <td>0</td>\n",
       "    </tr>\n",
       "    <tr>\n",
       "      <th>ROLE_FAMILY</th>\n",
       "      <td>0</td>\n",
       "      <td>0</td>\n",
       "    </tr>\n",
       "    <tr>\n",
       "      <th>ROLE_CODE</th>\n",
       "      <td>0</td>\n",
       "      <td>0</td>\n",
       "    </tr>\n",
       "  </tbody>\n",
       "</table>\n",
       "</div>"
      ],
      "text/plain": [
       "                  train  test\n",
       "RESOURCE              0     0\n",
       "MGR_ID                0     0\n",
       "ROLE_ROLLUP_1         0     0\n",
       "ROLE_ROLLUP_2         0     0\n",
       "ROLE_DEPTNAME         0     0\n",
       "ROLE_TITLE            0     0\n",
       "ROLE_FAMILY_DESC      0     0\n",
       "ROLE_FAMILY           0     0\n",
       "ROLE_CODE             0     0"
      ]
     },
     "execution_count": 6,
     "metadata": {},
     "output_type": "execute_result"
    }
   ],
   "source": [
    "print(\"Missing cases\")\n",
    "(pd.concat([X.isna().sum(), \n",
    "           X_test.isna().sum()\n",
    "           ], axis=\"columns\")\n",
    " .rename(columns={0: \"train\", 1:\"test\"}))"
   ]
  },
  {
   "cell_type": "code",
   "execution_count": 7,
   "id": "7c88c1a4",
   "metadata": {
    "execution": {
     "iopub.execute_input": "2024-10-05T18:02:34.000171Z",
     "iopub.status.busy": "2024-10-05T18:02:33.999548Z",
     "iopub.status.idle": "2024-10-05T18:02:34.433165Z",
     "shell.execute_reply": "2024-10-05T18:02:34.431241Z"
    },
    "papermill": {
     "duration": 0.451724,
     "end_time": "2024-10-05T18:02:34.436114",
     "exception": false,
     "start_time": "2024-10-05T18:02:33.984390",
     "status": "completed"
    },
    "tags": []
   },
   "outputs": [
    {
     "data": {
      "image/png": "[encoded data removed]",
      "text/plain": [
       "<Figure size 1000x600 with 1 Axes>"
      ]
     },
     "metadata": {},
     "output_type": "display_data"
    }
   ],
   "source": [
    "# label distribution\n",
    "fig, ax = plt.subplots(1, 1, figsize=(10, 6))\n",
    "sns.histplot(y, ax=ax)\n",
    "plt.show()"
   ]
  },
  {
   "cell_type": "code",
   "execution_count": 8,
   "id": "cd1a5db3",
   "metadata": {
    "execution": {
     "iopub.execute_input": "2024-10-05T18:02:34.463213Z",
     "iopub.status.busy": "2024-10-05T18:02:34.462736Z",
     "iopub.status.idle": "2024-10-05T18:03:20.311896Z",
     "shell.execute_reply": "2024-10-05T18:03:20.310608Z"
    },
    "papermill": {
     "duration": 45.881771,
     "end_time": "2024-10-05T18:03:20.330415",
     "exception": false,
     "start_time": "2024-10-05T18:02:34.448644",
     "status": "completed"
    },
    "tags": []
   },
   "outputs": [
    {
     "data": {
      "image/png": "[encoded data removed]",
      "text/plain": [
       "<Figure size 2400x2200 with 10 Axes>"
      ]
     },
     "metadata": {},
     "output_type": "display_data"
    }
   ],
   "source": [
    "# Distribution of values of variables\n",
    "_ = X.astype(int).hist(bins='auto', figsize=(24, 22), layout=(5, 2))"
   ]
  },
  {
   "cell_type": "markdown",
   "id": "caf00dac",
   "metadata": {
    "papermill": {
     "duration": 0.014957,
     "end_time": "2024-10-05T18:03:20.358996",
     "exception": false,
     "start_time": "2024-10-05T18:03:20.344039",
     "status": "completed"
    },
    "tags": []
   },
   "source": [
    "From the EDA we can get a few hints about what to do:\n",
    "* the target classes are unbalanced, we should consider re-balancing the data\n",
    "* all the categorical features have a different number of values ranging from 70 to up to over 7000 (high cardinality features)\n",
    "* there are no missing values but many categorical values appear just in test, not in train (this especially affects the RESOURCE feature)\n",
    "* the categorical values are sparse"
   ]
  },
  {
   "cell_type": "markdown",
   "id": "1d836ac2",
   "metadata": {
    "papermill": {
     "duration": 0.012926,
     "end_time": "2024-10-05T18:03:20.386145",
     "exception": false,
     "start_time": "2024-10-05T18:03:20.373219",
     "status": "completed"
    },
    "tags": []
   },
   "source": [
    "# 3. Feature engineering"
   ]
  },
  {
   "cell_type": "markdown",
   "id": "fe6fd162",
   "metadata": {
    "papermill": {
     "duration": 0.016122,
     "end_time": "2024-10-05T18:03:20.416724",
     "exception": false,
     "start_time": "2024-10-05T18:03:20.400602",
     "status": "completed"
    },
    "tags": []
   },
   "source": [
    "As the categorical features are sparsed and mismatched, we replace the original values with contiguous values, substituing with the value -1 in the test set for values that are not present in the train set. This operation should permit the LightGBM "
   ]
  },
  {
   "cell_type": "code",
   "execution_count": 9,
   "id": "495a37b4",
   "metadata": {
    "execution": {
     "iopub.execute_input": "2024-10-05T18:03:20.445549Z",
     "iopub.status.busy": "2024-10-05T18:03:20.445118Z",
     "iopub.status.idle": "2024-10-05T18:03:20.542485Z",
     "shell.execute_reply": "2024-10-05T18:03:20.540053Z"
    },
    "papermill": {
     "duration": 0.115143,
     "end_time": "2024-10-05T18:03:20.545260",
     "exception": false,
     "start_time": "2024-10-05T18:03:20.430117",
     "status": "completed"
    },
    "tags": []
   },
   "outputs": [
    {
     "name": "stdout",
     "output_type": "stream",
     "text": [
      "RESOURCE : [0, 38, 136, 138, 153] ... [312136, 312139, 312140, 312152, 312153]\n",
      "MGR_ID : [25, 27, 30, 32, 33] ... [311597, 311651, 311682, 311683, 311696]\n",
      "ROLE_ROLLUP_1 : [4292, 5110, 11146, 91261, 117876] ... [203209, 209434, 216705, 247952, 311178]\n",
      "ROLE_ROLLUP_2 : [23779, 31010, 32137, 117877, 117883] ... [151110, 159716, 176316, 185842, 286791]\n",
      "ROLE_DEPTNAME : [4674, 5488, 5606, 6104, 6725] ... [272283, 274241, 275600, 277693, 286792]\n",
      "ROLE_TITLE : [117879, 117885, 117896, 117899, 117905] ... [297560, 299559, 307024, 310825, 311867]\n",
      "ROLE_FAMILY_DESC : [4673, 62587, 117879, 117886, 117897] ... [311782, 311792, 311834, 311839, 311867]\n",
      "ROLE_FAMILY : [3130, 4673, 6725, 19721, 19793] ... [254395, 270488, 290919, 292795, 308574]\n",
      "ROLE_CODE : [117880, 117888, 117898, 117900, 117908] ... [254396, 258436, 266863, 268610, 270691]\n"
     ]
    }
   ],
   "source": [
    "for col in integer_cols:\n",
    "    unique_values = sorted(X[col].unique())\n",
    "    print(col, \":\", unique_values[:5],'...', unique_values[-5:])\n",
    "    conversion_dict = dict(zip(unique_values, range(len(unique_values))))\n",
    "    # When working with the Categorical’s codes, missing values will always have a code of -1.\n",
    "    X[col] = X[col].map(conversion_dict, na_action=-1).astype('category', copy=False)\n",
    "    X_test[col] = X_test[col].map(conversion_dict, na_action=-1).astype('category', copy=False)"
   ]
  },
  {
   "cell_type": "code",
   "execution_count": 10,
   "id": "8a4faec4",
   "metadata": {
    "execution": {
     "iopub.execute_input": "2024-10-05T18:03:20.576985Z",
     "iopub.status.busy": "2024-10-05T18:03:20.576308Z",
     "iopub.status.idle": "2024-10-05T18:03:20.599267Z",
     "shell.execute_reply": "2024-10-05T18:03:20.597770Z"
    },
    "papermill": {
     "duration": 0.042806,
     "end_time": "2024-10-05T18:03:20.602147",
     "exception": false,
     "start_time": "2024-10-05T18:03:20.559341",
     "status": "completed"
    },
    "tags": []
   },
   "outputs": [
    {
     "name": "stdout",
     "output_type": "stream",
     "text": [
      "Missing cases\n"
     ]
    },
    {
     "data": {
      "text/html": [
       "<div>\n",
       "<style scoped>\n",
       "    .dataframe tbody tr th:only-of-type {\n",
       "        vertical-align: middle;\n",
       "    }\n",
       "\n",
       "    .dataframe tbody tr th {\n",
       "        vertical-align: top;\n",
       "    }\n",
       "\n",
       "    .dataframe thead th {\n",
       "        text-align: right;\n",
       "    }\n",
       "</style>\n",
       "<table border=\"1\" class=\"dataframe\">\n",
       "  <thead>\n",
       "    <tr style=\"text-align: right;\">\n",
       "      <th></th>\n",
       "      <th>train</th>\n",
       "      <th>test</th>\n",
       "    </tr>\n",
       "  </thead>\n",
       "  <tbody>\n",
       "    <tr>\n",
       "      <th>RESOURCE</th>\n",
       "      <td>0</td>\n",
       "      <td>0</td>\n",
       "    </tr>\n",
       "    <tr>\n",
       "      <th>MGR_ID</th>\n",
       "      <td>0</td>\n",
       "      <td>1627</td>\n",
       "    </tr>\n",
       "    <tr>\n",
       "      <th>ROLE_ROLLUP_1</th>\n",
       "      <td>0</td>\n",
       "      <td>4</td>\n",
       "    </tr>\n",
       "    <tr>\n",
       "      <th>ROLE_ROLLUP_2</th>\n",
       "      <td>0</td>\n",
       "      <td>12</td>\n",
       "    </tr>\n",
       "    <tr>\n",
       "      <th>ROLE_DEPTNAME</th>\n",
       "      <td>0</td>\n",
       "      <td>62</td>\n",
       "    </tr>\n",
       "    <tr>\n",
       "      <th>ROLE_TITLE</th>\n",
       "      <td>0</td>\n",
       "      <td>30</td>\n",
       "    </tr>\n",
       "    <tr>\n",
       "      <th>ROLE_FAMILY_DESC</th>\n",
       "      <td>0</td>\n",
       "      <td>1249</td>\n",
       "    </tr>\n",
       "    <tr>\n",
       "      <th>ROLE_FAMILY</th>\n",
       "      <td>0</td>\n",
       "      <td>1</td>\n",
       "    </tr>\n",
       "    <tr>\n",
       "      <th>ROLE_CODE</th>\n",
       "      <td>0</td>\n",
       "      <td>30</td>\n",
       "    </tr>\n",
       "  </tbody>\n",
       "</table>\n",
       "</div>"
      ],
      "text/plain": [
       "                  train  test\n",
       "RESOURCE              0     0\n",
       "MGR_ID                0  1627\n",
       "ROLE_ROLLUP_1         0     4\n",
       "ROLE_ROLLUP_2         0    12\n",
       "ROLE_DEPTNAME         0    62\n",
       "ROLE_TITLE            0    30\n",
       "ROLE_FAMILY_DESC      0  1249\n",
       "ROLE_FAMILY           0     1\n",
       "ROLE_CODE             0    30"
      ]
     },
     "execution_count": 10,
     "metadata": {},
     "output_type": "execute_result"
    }
   ],
   "source": [
    "print(\"Missing cases\")\n",
    "pd.concat([X.isna().sum(), X_test.isna().sum()], axis=\"columns\").rename(columns={0: \"train\", 1:\"test\"})"
   ]
  },
  {
   "cell_type": "markdown",
   "id": "b4388da7",
   "metadata": {
    "papermill": {
     "duration": 0.014562,
     "end_time": "2024-10-05T18:03:20.631417",
     "exception": false,
     "start_time": "2024-10-05T18:03:20.616855",
     "status": "completed"
    },
    "tags": []
   },
   "source": [
    "# 4. Setting up optimization"
   ]
  },
  {
   "cell_type": "markdown",
   "id": "e76688f4",
   "metadata": {
    "papermill": {
     "duration": 0.014,
     "end_time": "2024-10-05T18:03:20.660965",
     "exception": false,
     "start_time": "2024-10-05T18:03:20.646965",
     "status": "completed"
    },
    "tags": []
   },
   "source": [
    "First, we create a wrapper function to deal with running the optimizer and reporting back its best results."
   ]
  },
  {
   "cell_type": "code",
   "execution_count": 11,
   "id": "c8f149a6",
   "metadata": {
    "execution": {
     "iopub.execute_input": "2024-10-05T18:03:20.693500Z",
     "iopub.status.busy": "2024-10-05T18:03:20.692990Z",
     "iopub.status.idle": "2024-10-05T18:03:20.704921Z",
     "shell.execute_reply": "2024-10-05T18:03:20.703583Z"
    },
    "papermill": {
     "duration": 0.032094,
     "end_time": "2024-10-05T18:03:20.708132",
     "exception": false,
     "start_time": "2024-10-05T18:03:20.676038",
     "status": "completed"
    },
    "tags": []
   },
   "outputs": [],
   "source": [
    "# Reporting util for different optimizers\n",
    "def report_perf(optimizer, X, y, title=\"model\", callbacks=None):\n",
    "    \"\"\"\n",
    "    A wrapper for measuring time and performances of different optmizers\n",
    "    \n",
    "    optimizer = a sklearn or a skopt optimizer\n",
    "    X = the training set \n",
    "    y = our target\n",
    "    title = a string label for the experiment\n",
    "    \"\"\"\n",
    "    start = time()\n",
    "    \n",
    "    if callbacks is not None:\n",
    "        optimizer.fit(X, y, callback=callbacks)\n",
    "    else:\n",
    "        optimizer.fit(X, y)\n",
    "        \n",
    "    d=pd.DataFrame(optimizer.cv_results_)\n",
    "    best_score = optimizer.best_score_\n",
    "    best_score_std = d.iloc[optimizer.best_index_].std_test_score\n",
    "    best_params = optimizer.best_params_\n",
    "    \n",
    "    print((title + \" took %.2f seconds,  candidates checked: %d, best CV score: %.3f \"\n",
    "           + u\"\\u00B1\"+\" %.3f\") % (time() - start, \n",
    "                                   len(optimizer.cv_results_['params']),\n",
    "                                   best_score,\n",
    "                                   best_score_std))    \n",
    "    print('Best parameters:')\n",
    "    pprint.pprint(best_params)\n",
    "    print()\n",
    "    return best_params"
   ]
  },
  {
   "cell_type": "markdown",
   "id": "7576706e",
   "metadata": {
    "papermill": {
     "duration": 0.013837,
     "end_time": "2024-10-05T18:03:20.736891",
     "exception": false,
     "start_time": "2024-10-05T18:03:20.723054",
     "status": "completed"
    },
    "tags": []
   },
   "source": [
    "We then define the evaluation metric, using the Scikit-learn function make_scorer allows us to convert the optimization into a minimization problem, as required by Scikit-optimize."
   ]
  },
  {
   "cell_type": "code",
   "execution_count": 12,
   "id": "fecdbbbe",
   "metadata": {
    "execution": {
     "iopub.execute_input": "2024-10-05T18:03:20.766502Z",
     "iopub.status.busy": "2024-10-05T18:03:20.766077Z",
     "iopub.status.idle": "2024-10-05T18:03:20.772133Z",
     "shell.execute_reply": "2024-10-05T18:03:20.770911Z"
    },
    "papermill": {
     "duration": 0.024063,
     "end_time": "2024-10-05T18:03:20.774862",
     "exception": false,
     "start_time": "2024-10-05T18:03:20.750799",
     "status": "completed"
    },
    "tags": []
   },
   "outputs": [],
   "source": [
    "# Converting average precision score into a scorer suitable for model selection\n",
    "roc_auc = make_scorer(roc_auc_score, greater_is_better=True, needs_threshold=True)"
   ]
  },
  {
   "cell_type": "markdown",
   "id": "4936454f",
   "metadata": {
    "papermill": {
     "duration": 0.013752,
     "end_time": "2024-10-05T18:03:20.803183",
     "exception": false,
     "start_time": "2024-10-05T18:03:20.789431",
     "status": "completed"
    },
    "tags": []
   },
   "source": [
    "We set up a stratified 5-fold cross validation: stratification helps us to obtain representative folds of the data and the target, though the target is unbalanced."
   ]
  },
  {
   "cell_type": "code",
   "execution_count": 13,
   "id": "d85e4e89",
   "metadata": {
    "execution": {
     "iopub.execute_input": "2024-10-05T18:03:20.835220Z",
     "iopub.status.busy": "2024-10-05T18:03:20.834778Z",
     "iopub.status.idle": "2024-10-05T18:03:20.840138Z",
     "shell.execute_reply": "2024-10-05T18:03:20.838988Z"
    },
    "papermill": {
     "duration": 0.024432,
     "end_time": "2024-10-05T18:03:20.842461",
     "exception": false,
     "start_time": "2024-10-05T18:03:20.818029",
     "status": "completed"
    },
    "tags": []
   },
   "outputs": [],
   "source": [
    "# Setting a 5-fold stratified cross-validation (note: shuffle=True)\n",
    "skf = StratifiedKFold(n_splits=5, shuffle=True, random_state=0)"
   ]
  },
  {
   "cell_type": "markdown",
   "id": "ec6d0c20",
   "metadata": {
    "papermill": {
     "duration": 0.014337,
     "end_time": "2024-10-05T18:03:20.870993",
     "exception": false,
     "start_time": "2024-10-05T18:03:20.856656",
     "status": "completed"
    },
    "tags": []
   },
   "source": [
    "We set up a generic LightGBM classifier."
   ]
  },
  {
   "cell_type": "code",
   "execution_count": 14,
   "id": "119cbd72",
   "metadata": {
    "execution": {
     "iopub.execute_input": "2024-10-05T18:03:20.902187Z",
     "iopub.status.busy": "2024-10-05T18:03:20.901743Z",
     "iopub.status.idle": "2024-10-05T18:03:20.909756Z",
     "shell.execute_reply": "2024-10-05T18:03:20.907552Z"
    },
    "papermill": {
     "duration": 0.027056,
     "end_time": "2024-10-05T18:03:20.913015",
     "exception": false,
     "start_time": "2024-10-05T18:03:20.885959",
     "status": "completed"
    },
    "tags": []
   },
   "outputs": [],
   "source": [
    "clf = lgb.LGBMClassifier(boosting_type='gbdt',\n",
    "                         metric='auc',\n",
    "                         objective='binary',\n",
    "                         n_jobs=1, \n",
    "                         verbose=-1,\n",
    "                         random_state=0)"
   ]
  },
  {
   "cell_type": "markdown",
   "id": "141425a0",
   "metadata": {
    "papermill": {
     "duration": 0.016066,
     "end_time": "2024-10-05T18:03:20.943683",
     "exception": false,
     "start_time": "2024-10-05T18:03:20.927617",
     "status": "completed"
    },
    "tags": []
   },
   "source": [
    "We define a search space, expliciting the key hyper-parameters to optimize and the range where to look for the best values."
   ]
  },
  {
   "cell_type": "code",
   "execution_count": 15,
   "id": "4fa0246e",
   "metadata": {
    "execution": {
     "iopub.execute_input": "2024-10-05T18:03:20.974409Z",
     "iopub.status.busy": "2024-10-05T18:03:20.973943Z",
     "iopub.status.idle": "2024-10-05T18:03:20.997161Z",
     "shell.execute_reply": "2024-10-05T18:03:20.995901Z"
    },
    "papermill": {
     "duration": 0.042965,
     "end_time": "2024-10-05T18:03:21.000810",
     "exception": false,
     "start_time": "2024-10-05T18:03:20.957845",
     "status": "completed"
    },
    "tags": []
   },
   "outputs": [],
   "source": [
    "search_spaces = {\n",
    "    'learning_rate': Real(0.01, 1.0, 'log-uniform'),     # Boosting learning rate\n",
    "    'n_estimators': Integer(30, 5000),                   # Number of boosted trees to fit\n",
    "    'num_leaves': Integer(2, 512),                       # Maximum tree leaves for base learners\n",
    "    'max_depth': Integer(-1, 256),                       # Maximum tree depth for base learners, <=0 means no limit\n",
    "    'min_child_samples': Integer(1, 256),                # Minimal number of data in one leaf\n",
    "    'max_bin': Integer(100, 1000),                       # Max number of bins that feature values will be bucketed\n",
    "    'subsample': Real(0.01, 1.0, 'uniform'),             # Subsample ratio of the training instance\n",
    "    'subsample_freq': Integer(0, 10),                    # Frequency of subsample, <=0 means no enable\n",
    "    'colsample_bytree': Real(0.01, 1.0, 'uniform'),      # Subsample ratio of columns when constructing each tree\n",
    "    'min_child_weight': Real(0.01, 10.0, 'uniform'),     # Minimum sum of instance weight (hessian) needed in a child (leaf)\n",
    "    'reg_lambda': Real(1e-9, 100.0, 'log-uniform'),      # L2 regularization\n",
    "    'reg_alpha': Real(1e-9, 100.0, 'log-uniform'),       # L1 regularization\n",
    "    'scale_pos_weight': Real(1.0, 500.0, 'uniform'),     # Weighting of the minority class (Only for binary classification)\n",
    "        }"
   ]
  },
  {
   "cell_type": "markdown",
   "id": "4dac9cec",
   "metadata": {
    "papermill": {
     "duration": 0.015097,
     "end_time": "2024-10-05T18:03:21.035407",
     "exception": false,
     "start_time": "2024-10-05T18:03:21.020310",
     "status": "completed"
    },
    "tags": []
   },
   "source": [
    "We then define the Bayesian optimization engine, providing to it our LightGBM, the search spaces, the evaluation metric, the cross-validation. We set a large number of possible experiments and some parallelism in the search operations."
   ]
  },
  {
   "cell_type": "code",
   "execution_count": 16,
   "id": "d470e06d",
   "metadata": {
    "execution": {
     "iopub.execute_input": "2024-10-05T18:03:21.069983Z",
     "iopub.status.busy": "2024-10-05T18:03:21.069497Z",
     "iopub.status.idle": "2024-10-05T18:03:21.080937Z",
     "shell.execute_reply": "2024-10-05T18:03:21.079650Z"
    },
    "papermill": {
     "duration": 0.032278,
     "end_time": "2024-10-05T18:03:21.083865",
     "exception": false,
     "start_time": "2024-10-05T18:03:21.051587",
     "status": "completed"
    },
    "tags": []
   },
   "outputs": [],
   "source": [
    "opt = BayesSearchCV(estimator=clf,                                    \n",
    "                    search_spaces=search_spaces,                      \n",
    "                    scoring=roc_auc,                                  \n",
    "                    cv=skf,                                           \n",
    "                    n_iter=3000,                                      # max number of trials\n",
    "                    n_points=3,                                       # number of hyperparameter sets evaluated at the same time\n",
    "                    n_jobs=-1,                                        # number of jobs\n",
    "                    iid=False,                                        # if not iid it optimizes on the cv score\n",
    "                    return_train_score=False,                         \n",
    "                    refit=False,                                      \n",
    "                    optimizer_kwargs={'base_estimator': 'GP'},        # optmizer parameters: we use Gaussian Process (GP)\n",
    "                    random_state=0)                                   # random state for replicability"
   ]
  },
  {
   "cell_type": "markdown",
   "id": "ead34c6b",
   "metadata": {
    "papermill": {
     "duration": 0.014831,
     "end_time": "2024-10-05T18:03:21.114425",
     "exception": false,
     "start_time": "2024-10-05T18:03:21.099594",
     "status": "completed"
    },
    "tags": []
   },
   "source": [
    "Finally we runt the optimizer and wait for the results. We have set some limits to its operations: we required it to stop if it cannot get consistent improvements from the search (DeltaYStopper) and time dealine set in seconds (we decided for 45 minutes)."
   ]
  },
  {
   "cell_type": "code",
   "execution_count": 17,
   "id": "ec8b9fd0",
   "metadata": {
    "execution": {
     "iopub.execute_input": "2024-10-05T18:03:21.145011Z",
     "iopub.status.busy": "2024-10-05T18:03:21.144533Z",
     "iopub.status.idle": "2024-10-05T18:49:45.827805Z",
     "shell.execute_reply": "2024-10-05T18:49:45.825883Z"
    },
    "papermill": {
     "duration": 2784.718312,
     "end_time": "2024-10-05T18:49:45.847105",
     "exception": false,
     "start_time": "2024-10-05T18:03:21.128793",
     "status": "completed"
    },
    "tags": []
   },
   "outputs": [
    {
     "name": "stdout",
     "output_type": "stream",
     "text": [
      "LightGBM took 2784.67 seconds,  candidates checked: 39, best CV score: 0.859 ± 0.008\n",
      "Best parameters:\n",
      "OrderedDict([('colsample_bytree', 0.347317198182373),\n",
      "             ('learning_rate', 0.6603977180639046),\n",
      "             ('max_bin', 913),\n",
      "             ('max_depth', 146),\n",
      "             ('min_child_samples', 124),\n",
      "             ('min_child_weight', 3.1525373138523585),\n",
      "             ('n_estimators', 4554),\n",
      "             ('num_leaves', 308),\n",
      "             ('reg_alpha', 1.774462402814678e-07),\n",
      "             ('reg_lambda', 3.6548521376945084e-07),\n",
      "             ('scale_pos_weight', 5.448725516779605),\n",
      "             ('subsample', 0.45527937996999446),\n",
      "             ('subsample_freq', 0)])\n",
      "\n"
     ]
    }
   ],
   "source": [
    "overdone_control = DeltaYStopper(delta=0.0001)               # We stop if the gain of the optimization becomes too small\n",
    "time_limit_control = DeadlineStopper(total_time=60 * 45)     # We impose a time limit (45 minutes)\n",
    "\n",
    "best_params = report_perf(opt, X, y,'LightGBM', \n",
    "                          callbacks=[overdone_control, time_limit_control])"
   ]
  },
  {
   "cell_type": "markdown",
   "id": "23098318",
   "metadata": {
    "papermill": {
     "duration": 0.015814,
     "end_time": "2024-10-05T18:49:45.878610",
     "exception": false,
     "start_time": "2024-10-05T18:49:45.862796",
     "status": "completed"
    },
    "tags": []
   },
   "source": [
    "# 5. Prediction on test data"
   ]
  },
  {
   "cell_type": "markdown",
   "id": "2f092e27",
   "metadata": {
    "papermill": {
     "duration": 0.016109,
     "end_time": "2024-10-05T18:49:45.910847",
     "exception": false,
     "start_time": "2024-10-05T18:49:45.894738",
     "status": "completed"
    },
    "tags": []
   },
   "source": [
    "Having got the best hyperparameters for the data at hand, we instantiate a lightGBM using such values and train our model on all the available examples.\n",
    "<P>After having trained the model, we predict on the test set and we save the results on a csv file."
   ]
  },
  {
   "cell_type": "code",
   "execution_count": 18,
   "id": "4e12e02f",
   "metadata": {
    "execution": {
     "iopub.execute_input": "2024-10-05T18:49:45.942867Z",
     "iopub.status.busy": "2024-10-05T18:49:45.942392Z",
     "iopub.status.idle": "2024-10-05T18:49:45.948728Z",
     "shell.execute_reply": "2024-10-05T18:49:45.947646Z"
    },
    "papermill": {
     "duration": 0.025701,
     "end_time": "2024-10-05T18:49:45.951211",
     "exception": false,
     "start_time": "2024-10-05T18:49:45.925510",
     "status": "completed"
    },
    "tags": []
   },
   "outputs": [],
   "source": [
    "clf = lgb.LGBMClassifier(boosting_type='gbdt',\n",
    "                         metric='auc',\n",
    "                         objective='binary',\n",
    "                         n_jobs=1, \n",
    "                         verbose=-1,\n",
    "                         random_state=0,\n",
    "                         **best_params)"
   ]
  },
  {
   "cell_type": "code",
   "execution_count": 19,
   "id": "1117e6c3",
   "metadata": {
    "execution": {
     "iopub.execute_input": "2024-10-05T18:49:45.983236Z",
     "iopub.status.busy": "2024-10-05T18:49:45.982805Z",
     "iopub.status.idle": "2024-10-05T18:50:04.485097Z",
     "shell.execute_reply": "2024-10-05T18:50:04.483345Z"
    },
    "papermill": {
     "duration": 18.523308,
     "end_time": "2024-10-05T18:50:04.489189",
     "exception": false,
     "start_time": "2024-10-05T18:49:45.965881",
     "status": "completed"
    },
    "tags": []
   },
   "outputs": [
    {
     "data": {
      "text/html": [
       "<style>#sk-container-id-1 {\n",
       "  /* Definition of color scheme common for light and dark mode */\n",
       "  --sklearn-color-text: black;\n",
       "  --sklearn-color-line: gray;\n",
       "  /* Definition of color scheme for unfitted estimators */\n",
       "  --sklearn-color-unfitted-level-0: #fff5e6;\n",
       "  --sklearn-color-unfitted-level-1: #f6e4d2;\n",
       "  --sklearn-color-unfitted-level-2: #ffe0b3;\n",
       "  --sklearn-color-unfitted-level-3: chocolate;\n",
       "  /* Definition of color scheme for fitted estimators */\n",
       "  --sklearn-color-fitted-level-0: #f0f8ff;\n",
       "  --sklearn-color-fitted-level-1: #d4ebff;\n",
       "  --sklearn-color-fitted-level-2: #b3dbfd;\n",
       "  --sklearn-color-fitted-level-3: cornflowerblue;\n",
       "\n",
       "  /* Specific color for light theme */\n",
       "  --sklearn-color-text-on-default-background: var(--sg-text-color, var(--theme-code-foreground, var(--jp-content-font-color1, black)));\n",
       "  --sklearn-color-background: var(--sg-background-color, var(--theme-background, var(--jp-layout-color0, white)));\n",
       "  --sklearn-color-border-box: var(--sg-text-color, var(--theme-code-foreground, var(--jp-content-font-color1, black)));\n",
       "  --sklearn-color-icon: #696969;\n",
       "\n",
       "  @media (prefers-color-scheme: dark) {\n",
       "    /* Redefinition of color scheme for dark theme */\n",
       "    --sklearn-color-text-on-default-background: var(--sg-text-color, var(--theme-code-foreground, var(--jp-content-font-color1, white)));\n",
       "    --sklearn-color-background: var(--sg-background-color, var(--theme-background, var(--jp-layout-color0, #111)));\n",
       "    --sklearn-color-border-box: var(--sg-text-color, var(--theme-code-foreground, var(--jp-content-font-color1, white)));\n",
       "    --sklearn-color-icon: #878787;\n",
       "  }\n",
       "}\n",
       "\n",
       "#sk-container-id-1 {\n",
       "  color: var(--sklearn-color-text);\n",
       "}\n",
       "\n",
       "#sk-container-id-1 pre {\n",
       "  padding: 0;\n",
       "}\n",
       "\n",
       "#sk-container-id-1 input.sk-hidden--visually {\n",
       "  border: 0;\n",
       "  clip: rect(1px 1px 1px 1px);\n",
       "  clip: rect(1px, 1px, 1px, 1px);\n",
       "  height: 1px;\n",
       "  margin: -1px;\n",
       "  overflow: hidden;\n",
       "  padding: 0;\n",
       "  position: absolute;\n",
       "  width: 1px;\n",
       "}\n",
       "\n",
       "#sk-container-id-1 div.sk-dashed-wrapped {\n",
       "  border: 1px dashed var(--sklearn-color-line);\n",
       "  margin: 0 0.4em 0.5em 0.4em;\n",
       "  box-sizing: border-box;\n",
       "  padding-bottom: 0.4em;\n",
       "  background-color: var(--sklearn-color-background);\n",
       "}\n",
       "\n",
       "#sk-container-id-1 div.sk-container {\n",
       "  /* jupyter's `normalize.less` sets `[hidden] { display: none; }`\n",
       "     but bootstrap.min.css set `[hidden] { display: none !important; }`\n",
       "     so we also need the `!important` here to be able to override the\n",
       "     default hidden behavior on the sphinx rendered scikit-learn.org.\n",
       "     See: https://github.com/scikit-learn/scikit-learn/issues/21755 */\n",
       "  display: inline-block !important;\n",
       "  position: relative;\n",
       "}\n",
       "\n",
       "#sk-container-id-1 div.sk-text-repr-fallback {\n",
       "  display: none;\n",
       "}\n",
       "\n",
       "div.sk-parallel-item,\n",
       "div.sk-serial,\n",
       "div.sk-item {\n",
       "  /* draw centered vertical line to link estimators */\n",
       "  background-image: linear-gradient(var(--sklearn-color-text-on-default-background), var(--sklearn-color-text-on-default-background));\n",
       "  background-size: 2px 100%;\n",
       "  background-repeat: no-repeat;\n",
       "  background-position: center center;\n",
       "}\n",
       "\n",
       "/* Parallel-specific style estimator block */\n",
       "\n",
       "#sk-container-id-1 div.sk-parallel-item::after {\n",
       "  content: \"\";\n",
       "  width: 100%;\n",
       "  border-bottom: 2px solid var(--sklearn-color-text-on-default-background);\n",
       "  flex-grow: 1;\n",
       "}\n",
       "\n",
       "#sk-container-id-1 div.sk-parallel {\n",
       "  display: flex;\n",
       "  align-items: stretch;\n",
       "  justify-content: center;\n",
       "  background-color: var(--sklearn-color-background);\n",
       "  position: relative;\n",
       "}\n",
       "\n",
       "#sk-container-id-1 div.sk-parallel-item {\n",
       "  display: flex;\n",
       "  flex-direction: column;\n",
       "}\n",
       "\n",
       "#sk-container-id-1 div.sk-parallel-item:first-child::after {\n",
       "  align-self: flex-end;\n",
       "  width: 50%;\n",
       "}\n",
       "\n",
       "#sk-container-id-1 div.sk-parallel-item:last-child::after {\n",
       "  align-self: flex-start;\n",
       "  width: 50%;\n",
       "}\n",
       "\n",
       "#sk-container-id-1 div.sk-parallel-item:only-child::after {\n",
       "  width: 0;\n",
       "}\n",
       "\n",
       "/* Serial-specific style estimator block */\n",
       "\n",
       "#sk-container-id-1 div.sk-serial {\n",
       "  display: flex;\n",
       "  flex-direction: column;\n",
       "  align-items: center;\n",
       "  background-color: var(--sklearn-color-background);\n",
       "  padding-right: 1em;\n",
       "  padding-left: 1em;\n",
       "}\n",
       "\n",
       "\n",
       "/* Toggleable style: style used for estimator/Pipeline/ColumnTransformer box that is\n",
       "clickable and can be expanded/collapsed.\n",
       "- Pipeline and ColumnTransformer use this feature and define the default style\n",
       "- Estimators will overwrite some part of the style using the `sk-estimator` class\n",
       "*/\n",
       "\n",
       "/* Pipeline and ColumnTransformer style (default) */\n",
       "\n",
       "#sk-container-id-1 div.sk-toggleable {\n",
       "  /* Default theme specific background. It is overwritten whether we have a\n",
       "  specific estimator or a Pipeline/ColumnTransformer */\n",
       "  background-color: var(--sklearn-color-background);\n",
       "}\n",
       "\n",
       "/* Toggleable label */\n",
       "#sk-container-id-1 label.sk-toggleable__label {\n",
       "  cursor: pointer;\n",
       "  display: block;\n",
       "  width: 100%;\n",
       "  margin-bottom: 0;\n",
       "  padding: 0.5em;\n",
       "  box-sizing: border-box;\n",
       "  text-align: center;\n",
       "}\n",
       "\n",
       "#sk-container-id-1 label.sk-toggleable__label-arrow:before {\n",
       "  /* Arrow on the left of the label */\n",
       "  content: \"▸\";\n",
       "  float: left;\n",
       "  margin-right: 0.25em;\n",
       "  color: var(--sklearn-color-icon);\n",
       "}\n",
       "\n",
       "#sk-container-id-1 label.sk-toggleable__label-arrow:hover:before {\n",
       "  color: var(--sklearn-color-text);\n",
       "}\n",
       "\n",
       "/* Toggleable content - dropdown */\n",
       "\n",
       "#sk-container-id-1 div.sk-toggleable__content {\n",
       "  max-height: 0;\n",
       "  max-width: 0;\n",
       "  overflow: hidden;\n",
       "  text-align: left;\n",
       "  /* unfitted */\n",
       "  background-color: var(--sklearn-color-unfitted-level-0);\n",
       "}\n",
       "\n",
       "#sk-container-id-1 div.sk-toggleable__content.fitted {\n",
       "  /* fitted */\n",
       "  background-color: var(--sklearn-color-fitted-level-0);\n",
       "}\n",
       "\n",
       "#sk-container-id-1 div.sk-toggleable__content pre {\n",
       "  margin: 0.2em;\n",
       "  border-radius: 0.25em;\n",
       "  color: var(--sklearn-color-text);\n",
       "  /* unfitted */\n",
       "  background-color: var(--sklearn-color-unfitted-level-0);\n",
       "}\n",
       "\n",
       "#sk-container-id-1 div.sk-toggleable__content.fitted pre {\n",
       "  /* unfitted */\n",
       "  background-color: var(--sklearn-color-fitted-level-0);\n",
       "}\n",
       "\n",
       "#sk-container-id-1 input.sk-toggleable__control:checked~div.sk-toggleable__content {\n",
       "  /* Expand drop-down */\n",
       "  max-height: 200px;\n",
       "  max-width: 100%;\n",
       "  overflow: auto;\n",
       "}\n",
       "\n",
       "#sk-container-id-1 input.sk-toggleable__control:checked~label.sk-toggleable__label-arrow:before {\n",
       "  content: \"▾\";\n",
       "}\n",
       "\n",
       "/* Pipeline/ColumnTransformer-specific style */\n",
       "\n",
       "#sk-container-id-1 div.sk-label input.sk-toggleable__control:checked~label.sk-toggleable__label {\n",
       "  color: var(--sklearn-color-text);\n",
       "  background-color: var(--sklearn-color-unfitted-level-2);\n",
       "}\n",
       "\n",
       "#sk-container-id-1 div.sk-label.fitted input.sk-toggleable__control:checked~label.sk-toggleable__label {\n",
       "  background-color: var(--sklearn-color-fitted-level-2);\n",
       "}\n",
       "\n",
       "/* Estimator-specific style */\n",
       "\n",
       "/* Colorize estimator box */\n",
       "#sk-container-id-1 div.sk-estimator input.sk-toggleable__control:checked~label.sk-toggleable__label {\n",
       "  /* unfitted */\n",
       "  background-color: var(--sklearn-color-unfitted-level-2);\n",
       "}\n",
       "\n",
       "#sk-container-id-1 div.sk-estimator.fitted input.sk-toggleable__control:checked~label.sk-toggleable__label {\n",
       "  /* fitted */\n",
       "  background-color: var(--sklearn-color-fitted-level-2);\n",
       "}\n",
       "\n",
       "#sk-container-id-1 div.sk-label label.sk-toggleable__label,\n",
       "#sk-container-id-1 div.sk-label label {\n",
       "  /* The background is the default theme color */\n",
       "  color: var(--sklearn-color-text-on-default-background);\n",
       "}\n",
       "\n",
       "/* On hover, darken the color of the background */\n",
       "#sk-container-id-1 div.sk-label:hover label.sk-toggleable__label {\n",
       "  color: var(--sklearn-color-text);\n",
       "  background-color: var(--sklearn-color-unfitted-level-2);\n",
       "}\n",
       "\n",
       "/* Label box, darken color on hover, fitted */\n",
       "#sk-container-id-1 div.sk-label.fitted:hover label.sk-toggleable__label.fitted {\n",
       "  color: var(--sklearn-color-text);\n",
       "  background-color: var(--sklearn-color-fitted-level-2);\n",
       "}\n",
       "\n",
       "/* Estimator label */\n",
       "\n",
       "#sk-container-id-1 div.sk-label label {\n",
       "  font-family: monospace;\n",
       "  font-weight: bold;\n",
       "  display: inline-block;\n",
       "  line-height: 1.2em;\n",
       "}\n",
       "\n",
       "#sk-container-id-1 div.sk-label-container {\n",
       "  text-align: center;\n",
       "}\n",
       "\n",
       "/* Estimator-specific */\n",
       "#sk-container-id-1 div.sk-estimator {\n",
       "  font-family: monospace;\n",
       "  border: 1px dotted var(--sklearn-color-border-box);\n",
       "  border-radius: 0.25em;\n",
       "  box-sizing: border-box;\n",
       "  margin-bottom: 0.5em;\n",
       "  /* unfitted */\n",
       "  background-color: var(--sklearn-color-unfitted-level-0);\n",
       "}\n",
       "\n",
       "#sk-container-id-1 div.sk-estimator.fitted {\n",
       "  /* fitted */\n",
       "  background-color: var(--sklearn-color-fitted-level-0);\n",
       "}\n",
       "\n",
       "/* on hover */\n",
       "#sk-container-id-1 div.sk-estimator:hover {\n",
       "  /* unfitted */\n",
       "  background-color: var(--sklearn-color-unfitted-level-2);\n",
       "}\n",
       "\n",
       "#sk-container-id-1 div.sk-estimator.fitted:hover {\n",
       "  /* fitted */\n",
       "  background-color: var(--sklearn-color-fitted-level-2);\n",
       "}\n",
       "\n",
       "/* Specification for estimator info (e.g. \"i\" and \"?\") */\n",
       "\n",
       "/* Common style for \"i\" and \"?\" */\n",
       "\n",
       ".sk-estimator-doc-link,\n",
       "a:link.sk-estimator-doc-link,\n",
       "a:visited.sk-estimator-doc-link {\n",
       "  float: right;\n",
       "  font-size: smaller;\n",
       "  line-height: 1em;\n",
       "  font-family: monospace;\n",
       "  background-color: var(--sklearn-color-background);\n",
       "  border-radius: 1em;\n",
       "  height: 1em;\n",
       "  width: 1em;\n",
       "  text-decoration: none !important;\n",
       "  margin-left: 1ex;\n",
       "  /* unfitted */\n",
       "  border: var(--sklearn-color-unfitted-level-1) 1pt solid;\n",
       "  color: var(--sklearn-color-unfitted-level-1);\n",
       "}\n",
       "\n",
       ".sk-estimator-doc-link.fitted,\n",
       "a:link.sk-estimator-doc-link.fitted,\n",
       "a:visited.sk-estimator-doc-link.fitted {\n",
       "  /* fitted */\n",
       "  border: var(--sklearn-color-fitted-level-1) 1pt solid;\n",
       "  color: var(--sklearn-color-fitted-level-1);\n",
       "}\n",
       "\n",
       "/* On hover */\n",
       "div.sk-estimator:hover .sk-estimator-doc-link:hover,\n",
       ".sk-estimator-doc-link:hover,\n",
       "div.sk-label-container:hover .sk-estimator-doc-link:hover,\n",
       ".sk-estimator-doc-link:hover {\n",
       "  /* unfitted */\n",
       "  background-color: var(--sklearn-color-unfitted-level-3);\n",
       "  color: var(--sklearn-color-background);\n",
       "  text-decoration: none;\n",
       "}\n",
       "\n",
       "div.sk-estimator.fitted:hover .sk-estimator-doc-link.fitted:hover,\n",
       ".sk-estimator-doc-link.fitted:hover,\n",
       "div.sk-label-container:hover .sk-estimator-doc-link.fitted:hover,\n",
       ".sk-estimator-doc-link.fitted:hover {\n",
       "  /* fitted */\n",
       "  background-color: var(--sklearn-color-fitted-level-3);\n",
       "  color: var(--sklearn-color-background);\n",
       "  text-decoration: none;\n",
       "}\n",
       "\n",
       "/* Span, style for the box shown on hovering the info icon */\n",
       ".sk-estimator-doc-link span {\n",
       "  display: none;\n",
       "  z-index: 9999;\n",
       "  position: relative;\n",
       "  font-weight: normal;\n",
       "  right: .2ex;\n",
       "  padding: .5ex;\n",
       "  margin: .5ex;\n",
       "  width: min-content;\n",
       "  min-width: 20ex;\n",
       "  max-width: 50ex;\n",
       "  color: var(--sklearn-color-text);\n",
       "  box-shadow: 2pt 2pt 4pt #999;\n",
       "  /* unfitted */\n",
       "  background: var(--sklearn-color-unfitted-level-0);\n",
       "  border: .5pt solid var(--sklearn-color-unfitted-level-3);\n",
       "}\n",
       "\n",
       ".sk-estimator-doc-link.fitted span {\n",
       "  /* fitted */\n",
       "  background: var(--sklearn-color-fitted-level-0);\n",
       "  border: var(--sklearn-color-fitted-level-3);\n",
       "}\n",
       "\n",
       ".sk-estimator-doc-link:hover span {\n",
       "  display: block;\n",
       "}\n",
       "\n",
       "/* \"?\"-specific style due to the `<a>` HTML tag */\n",
       "\n",
       "#sk-container-id-1 a.estimator_doc_link {\n",
       "  float: right;\n",
       "  font-size: 1rem;\n",
       "  line-height: 1em;\n",
       "  font-family: monospace;\n",
       "  background-color: var(--sklearn-color-background);\n",
       "  border-radius: 1rem;\n",
       "  height: 1rem;\n",
       "  width: 1rem;\n",
       "  text-decoration: none;\n",
       "  /* unfitted */\n",
       "  color: var(--sklearn-color-unfitted-level-1);\n",
       "  border: var(--sklearn-color-unfitted-level-1) 1pt solid;\n",
       "}\n",
       "\n",
       "#sk-container-id-1 a.estimator_doc_link.fitted {\n",
       "  /* fitted */\n",
       "  border: var(--sklearn-color-fitted-level-1) 1pt solid;\n",
       "  color: var(--sklearn-color-fitted-level-1);\n",
       "}\n",
       "\n",
       "/* On hover */\n",
       "#sk-container-id-1 a.estimator_doc_link:hover {\n",
       "  /* unfitted */\n",
       "  background-color: var(--sklearn-color-unfitted-level-3);\n",
       "  color: var(--sklearn-color-background);\n",
       "  text-decoration: none;\n",
       "}\n",
       "\n",
       "#sk-container-id-1 a.estimator_doc_link.fitted:hover {\n",
       "  /* fitted */\n",
       "  background-color: var(--sklearn-color-fitted-level-3);\n",
       "}\n",
       "</style><div id=\"sk-container-id-1\" class=\"sk-top-container\"><div class=\"sk-text-repr-fallback\"><pre>LGBMClassifier(colsample_bytree=0.347317198182373,\n",
       "               learning_rate=0.6603977180639046, max_bin=913, max_depth=146,\n",
       "               metric=&#x27;auc&#x27;, min_child_samples=124,\n",
       "               min_child_weight=3.1525373138523585, n_estimators=4554, n_jobs=1,\n",
       "               num_leaves=308, objective=&#x27;binary&#x27;, random_state=0,\n",
       "               reg_alpha=1.774462402814678e-07,\n",
       "               reg_lambda=3.6548521376945084e-07,\n",
       "               scale_pos_weight=5.448725516779605,\n",
       "               subsample=0.45527937996999446, verbose=-1)</pre><b>In a Jupyter environment, please rerun this cell to show the HTML representation or trust the notebook. <br />On GitHub, the HTML representation is unable to render, please try loading this page with nbviewer.org.</b></div><div class=\"sk-container\" hidden><div class=\"sk-item\"><div class=\"sk-estimator fitted sk-toggleable\"><input class=\"sk-toggleable__control sk-hidden--visually\" id=\"sk-estimator-id-1\" type=\"checkbox\" checked><label for=\"sk-estimator-id-1\" class=\"sk-toggleable__label fitted sk-toggleable__label-arrow fitted\">&nbsp;LGBMClassifier<span class=\"sk-estimator-doc-link fitted\">i<span>Fitted</span></span></label><div class=\"sk-toggleable__content fitted\"><pre>LGBMClassifier(colsample_bytree=0.347317198182373,\n",
       "               learning_rate=0.6603977180639046, max_bin=913, max_depth=146,\n",
       "               metric=&#x27;auc&#x27;, min_child_samples=124,\n",
       "               min_child_weight=3.1525373138523585, n_estimators=4554, n_jobs=1,\n",
       "               num_leaves=308, objective=&#x27;binary&#x27;, random_state=0,\n",
       "               reg_alpha=1.774462402814678e-07,\n",
       "               reg_lambda=3.6548521376945084e-07,\n",
       "               scale_pos_weight=5.448725516779605,\n",
       "               subsample=0.45527937996999446, verbose=-1)</pre></div> </div></div></div></div>"
      ],
      "text/plain": [
       "LGBMClassifier(colsample_bytree=0.347317198182373,\n",
       "               learning_rate=0.6603977180639046, max_bin=913, max_depth=146,\n",
       "               metric='auc', min_child_samples=124,\n",
       "               min_child_weight=3.1525373138523585, n_estimators=4554, n_jobs=1,\n",
       "               num_leaves=308, objective='binary', random_state=0,\n",
       "               reg_alpha=1.774462402814678e-07,\n",
       "               reg_lambda=3.6548521376945084e-07,\n",
       "               scale_pos_weight=5.448725516779605,\n",
       "               subsample=0.45527937996999446, verbose=-1)"
      ]
     },
     "execution_count": 19,
     "metadata": {},
     "output_type": "execute_result"
    }
   ],
   "source": [
    "clf.fit(X, y)"
   ]
  },
  {
   "cell_type": "code",
   "execution_count": 20,
   "id": "de7da3e1",
   "metadata": {
    "execution": {
     "iopub.execute_input": "2024-10-05T18:50:04.529988Z",
     "iopub.status.busy": "2024-10-05T18:50:04.528483Z",
     "iopub.status.idle": "2024-10-05T18:51:21.836396Z",
     "shell.execute_reply": "2024-10-05T18:51:21.834464Z"
    },
    "papermill": {
     "duration": 77.330068,
     "end_time": "2024-10-05T18:51:21.840110",
     "exception": false,
     "start_time": "2024-10-05T18:50:04.510042",
     "status": "completed"
    },
    "tags": []
   },
   "outputs": [],
   "source": [
    "submission = pd.DataFrame({'Id':ids, 'ACTION': clf.predict_proba(X_test)[:, 1].ravel()})\n",
    "submission.to_csv(\"submission.csv\", index = False)"
   ]
  }
 ],
 "metadata": {
  "kaggle": {
   "accelerator": "none",
   "dataSources": [
    {
     "datasetId": 1513318,
     "sourceId": 2499292,
     "sourceType": "datasetVersion"
    }
   ],
   "isGpuEnabled": false,
   "isInternetEnabled": true,
   "language": "python",
   "sourceType": "notebook"
  },
  "kernelspec": {
   "display_name": "Python 3",
   "language": "python",
   "name": "python3"
  },
  "language_info": {
   "codemirror_mode": {
    "name": "ipython",
    "version": 3
   },
   "file_extension": ".py",
   "mimetype": "text/x-python",
   "name": "python",
   "nbconvert_exporter": "python",
   "pygments_lexer": "ipython3",
   "version": "3.10.14"
  },
  "papermill": {
   "default_parameters": {},
   "duration": 2962.370621,
   "end_time": "2024-10-05T18:51:24.485313",
   "environment_variables": {},
   "exception": null,
   "input_path": "__notebook__.ipynb",
   "output_path": "__notebook__.ipynb",
   "parameters": {},
   "start_time": "2024-10-05T18:02:02.114692",
   "version": "2.6.0"
  }
 },
 "nbformat": 4,
 "nbformat_minor": 5
}
